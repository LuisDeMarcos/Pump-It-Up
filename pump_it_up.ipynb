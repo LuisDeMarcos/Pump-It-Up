{
 "cells": [
  {
   "cell_type": "markdown",
   "metadata": {},
   "source": [
    "Trabajo realizado por Luis De Marcos Mazarío para la UCM en 2022"
   ]
  },
  {
   "cell_type": "markdown",
   "metadata": {},
   "source": [
    "# Introduction"
   ]
  },
  {
   "cell_type": "markdown",
   "metadata": {
    "ExecuteTime": {
     "end_time": "2022-02-14T10:49:12.163997Z",
     "start_time": "2022-02-14T10:49:12.153551Z"
    }
   },
   "source": [
    "Your goal is to predict the operating condition of a waterpoint for each record in the dataset. You are provided the following set of information about the waterpoints:"
   ]
  },
  {
   "cell_type": "code",
   "execution_count": 1,
   "metadata": {
    "ExecuteTime": {
     "end_time": "2022-03-16T10:43:23.803586Z",
     "start_time": "2022-03-16T10:43:23.790011Z"
    }
   },
   "outputs": [],
   "source": [
    "info = \"\"\"id - Pump identifier\n",
    "amount_tsh - Total static head (amount water available to waterpoint)\n",
    "date_recorded - The date the row was entered\n",
    "funder - Who funded the well\n",
    "gps_height - Altitude of the well\n",
    "installer - Organization that installed the well\n",
    "longitude - GPS coordinate\n",
    "latitude - GPS coordinate\n",
    "wpt_name - Name of the waterpoint if there is one\n",
    "num_private - Unknown\n",
    "basin - Geographic water basin\n",
    "subvillage - Geographic location\n",
    "region - Geographic location\n",
    "region_code - Geographic location (coded)\n",
    "district_code - Geographic location (coded)\n",
    "lga - Geographic location\n",
    "ward - Geographic location\n",
    "population - Population around the well\n",
    "public_meeting - True/False\n",
    "recorded_by - Group entering this row of data\n",
    "scheme_management - Who operates the waterpoint\n",
    "scheme_name - Who operates the waterpoint\n",
    "permit - If the waterpoint is permitted\n",
    "construction_year - Year the waterpoint was constructed\n",
    "extraction_type - The kind of extraction the waterpoint uses\n",
    "extraction_type_group - The kind of extraction the waterpoint uses\n",
    "extraction_type_class - The kind of extraction the waterpoint uses\n",
    "management - How the waterpoint is managed\n",
    "management_group - How the waterpoint is managed\n",
    "payment - What the water costs\n",
    "payment_type - What the water costs\n",
    "water_quality - The quality of the water\n",
    "quality_group - The quality of the water\n",
    "quantity - The quantity of water\n",
    "quantity_group - The quantity of water\n",
    "source - The source of the water\n",
    "source_type - The source of the water\n",
    "source_class - The source of the water\n",
    "waterpoint_type - The kind of waterpoint\n",
    "waterpoint_type_group - The kind of waterpoint\"\"\""
   ]
  },
  {
   "cell_type": "markdown",
   "metadata": {},
   "source": [
    "The labels in this dataset are simple. There are three possible values:\n",
    "\n",
    "- functional (0): the waterpoint is operational and there are no repairs needed\n",
    "- functional needs repair (1): the waterpoint is operational, but needs repairs\n",
    "- non functional (2): the waterpoint is not operational"
   ]
  },
  {
   "cell_type": "markdown",
   "metadata": {},
   "source": [
    "# Imports and Functions"
   ]
  },
  {
   "cell_type": "code",
   "execution_count": null,
   "metadata": {
    "ExecuteTime": {
     "end_time": "2022-03-16T10:43:43.739219Z",
     "start_time": "2022-03-16T10:43:25.099005Z"
    }
   },
   "outputs": [],
   "source": [
    "import random\n",
    "import os\n",
    "import pandas as pd\n",
    "pd.set_option('display.max_columns', 100)\n",
    "import numpy as np\n",
    "\n",
    "import matplotlib.pyplot as plt\n",
    "import seaborn as sns\n",
    "\n",
    "from sklearn.preprocessing import LabelEncoder\n",
    "from sklearn.ensemble import (RandomForestClassifier, BaggingClassifier, VotingClassifier, \n",
    "                              GradientBoostingClassifier, RandomForestRegressor, StackingClassifier)\n",
    "from sklearn.metrics import f1_score, accuracy_score, confusion_matrix\n",
    "from sklearn.model_selection import train_test_split\n",
    "from sklearn.linear_model import LogisticRegression, LinearRegression\n",
    "from sklearn.svm import SVC\n",
    "from sklearn.preprocessing import StandardScaler\n",
    "from sklearn.neighbors import KNeighborsClassifier\n",
    "from sklearn.model_selection import (GridSearchCV, cross_val_score, RepeatedStratifiedKFold, \n",
    "StratifiedKFold, RandomizedSearchCV)\n",
    "from sklearn.feature_selection import SelectKBest, f_classif\n",
    "from sklearn.experimental import enable_iterative_imputer\n",
    "from sklearn.impute import KNNImputer, IterativeImputer\n",
    "\n",
    "from catboost import CatBoostClassifier\n",
    "\n",
    "from lightgbm import LGBMClassifier\n",
    "from xgboost import XGBClassifier\n",
    "\n",
    "import category_encoders as ce\n",
    "\n",
    "import warnings\n",
    "warnings.filterwarnings(action='ignore')\n",
    "import time"
   ]
  },
  {
   "cell_type": "code",
   "execution_count": 5,
   "metadata": {
    "ExecuteTime": {
     "end_time": "2022-03-16T10:44:47.349204Z",
     "start_time": "2022-03-16T10:44:47.317207Z"
    }
   },
   "outputs": [],
   "source": [
    "def get_metrics(tags, predictions):\n",
    "    print('F1 Score:',f1_score(tags, predictions, average='macro'))\n",
    "    print('Accuracy Score:',accuracy_score(tags, predictions))\n",
    "    print(confusion_matrix(tags, predictions))\n",
    "\n",
    "def show_features_importance(model, features, n_best=None):\n",
    "    if not n_best or n_best > len(features):\n",
    "        n_best = len(features)\n",
    "    size = n_best if n_best < len(features) else len(features)\n",
    "    importance = model.feature_importances_\n",
    "    importance_dict = {}\n",
    "    total = 0\n",
    "    for v,i in sorted(zip(importance, features), reverse=False):\n",
    "        total += v\n",
    "        importance_dict[i] = v\n",
    "\n",
    "    plt.figure(figsize=(10,size/2))\n",
    "    plt.barh(list(importance_dict.keys())[len(features)-n_best:], \n",
    "             list(importance_dict.values())[len(features)-n_best:], color='g')\n",
    "    plt.show()\n",
    "\n",
    "def show_missing_unique(df, data=None):\n",
    "    dfx = pd.DataFrame({'type':df.dtypes,\n",
    "                  'missing':df.isnull().sum(),\n",
    "                  '% missing':round(df.isnull().sum()*100/len(df),2),\n",
    "                  'unique':[len(df[col].unique()) for col in df.columns],\n",
    "                  '% unique':[round(len(df[col].unique())*100/len(df),2) for col in df.columns]})\n",
    "    if data:\n",
    "        dfx['description'] = [x.split(' - ')[1] for x in data.split('\\n')]\n",
    "    return dfx.style.background_gradient(cmap='viridis')\n",
    "\n",
    "def find_best_cut(y_test, preds_proba, granularity=0.1, low=0, high=1):\n",
    "    results = [(accuracy_score(y_test, [2 if x[2] >= i else np.argmax(x[:-1]) for x in preds_proba]), i)\n",
    "               for i in np.arange(low,high,granularity)]\n",
    "    return sorted(results)[-1]\n",
    "\n",
    "def plot_corr(df):\n",
    "    df = df.copy()\n",
    "    for col in df.select_dtypes(include='O'):\n",
    "        df[col] = LabelEncoder().fit_transform(df[col])\n",
    "    plt.figure(figsize=(10,8))\n",
    "    sns.heatmap(df.corr())\n",
    "    #display(abs(df.corr()).style.background_gradient(cmap='viridis'))\n",
    "    \n",
    "def check_unique_values(df, columns):\n",
    "    for col in columns:\n",
    "        print(sorted([x for x in df[col].unique() if x is not np.nan]))\n",
    "    \n",
    "def find_features_importance(X_train, y_train):\n",
    "    xgb = XGBClassifier(random_state=42, n_jobs=-1, verbosity=0).fit(X_train, y_train).feature_importances_\n",
    "    rf = RandomForestClassifier(random_state=42, n_jobs=-1).fit(X_train, y_train).feature_importances_\n",
    "    cat = CatBoostClassifier(random_state=42, silent=True).fit(X_train, y_train).feature_importances_\n",
    "    importances = sorted([(np.mean([x,y,z]),c) for x,y,z,c in zip(xgb, rf, cat, X_train.columns)])\n",
    "    plt.figure(figsize=(10,len(X_train.columns)/2))\n",
    "    plt.barh(list(zip(*importances))[1], list(zip(*importances))[0])\n",
    "    return sorted(importances, reverse=True)\n",
    "\n",
    "def plot_map(df, color=None):\n",
    "    plt.figure(figsize=(7,5))\n",
    "    plt.scatter(df.latitude, df.longitude, s=5, c=color)\n",
    "    plt.colorbar()\n",
    "\n",
    "def plot_categoricals(df, tag, col):\n",
    "    labels = df[col].unique()\n",
    "    plt.figure(figsize=(10,5))\n",
    "    qs = [df[tag == i][col].value_counts() for i in np.unique(tag)]\n",
    "    qs = [[q[l] if l in q else 0 for l in labels] for q in qs]\n",
    "    acc = np.zeros(len(labels))\n",
    "    for val, c in zip(qs, ['green','orange','red','blue','yellow','black']):\n",
    "        plt.bar(labels, val, bottom=acc, color=c)\n",
    "        acc = acc + val\n",
    "    plt.xticks(rotation=90)\n",
    "    plt.title(col)\n",
    "    plt.show()"
   ]
  },
  {
   "cell_type": "code",
   "execution_count": null,
   "metadata": {
    "ExecuteTime": {
     "end_time": "2022-03-16T10:43:43.744221Z",
     "start_time": "2022-03-16T10:43:33.483Z"
    }
   },
   "outputs": [],
   "source": [
    "NUMERICS = ['int16', 'int32', 'int64', 'float16', 'float32', 'float64']"
   ]
  },
  {
   "cell_type": "markdown",
   "metadata": {
    "ExecuteTime": {
     "end_time": "2022-03-10T11:22:05.199328Z",
     "start_time": "2022-03-10T11:22:05.191827Z"
    }
   },
   "source": [
    "# Exploratory Data Analysis"
   ]
  },
  {
   "cell_type": "markdown",
   "metadata": {},
   "source": [
    "El primer paso es cargar los datos. Para ello, generaremos un dataframe con los datos de entrenamiento y testing, para poder analizarlos en conjunto y poder aplicar las transformaciones a todos los datos simultáneamente. Además, cargaremos en una variable `tag` la variable objetivo a predecir"
   ]
  },
  {
   "cell_type": "code",
   "execution_count": 3,
   "metadata": {
    "ExecuteTime": {
     "end_time": "2022-03-16T10:44:44.988588Z",
     "start_time": "2022-03-16T10:44:44.228620Z"
    }
   },
   "outputs": [],
   "source": [
    "# Cargamos los datos\n",
    "df = pd.concat([pd.read_csv('data/training.csv'), pd.read_csv('data/test.csv')])\n",
    "tag = LabelEncoder().fit_transform(pd.read_csv('data/labels.csv')['status_group'])\n",
    "test_ids = df[len(tag):]['id']"
   ]
  },
  {
   "cell_type": "markdown",
   "metadata": {},
   "source": [
    "Mostramos los valores perdidos, únicos, el tipo y la descripción de cada variable para hacernos una idea inicial de los datos con los que estamos trabjando"
   ]
  },
  {
   "cell_type": "code",
   "execution_count": 6,
   "metadata": {
    "ExecuteTime": {
     "end_time": "2022-03-16T10:44:50.675419Z",
     "start_time": "2022-03-16T10:44:49.681681Z"
    }
   },
   "outputs": [
    {
     "data": {
      "text/html": [
       "<style  type=\"text/css\" >\n",
       "#T_8e93e_row0_col1,#T_8e93e_row0_col2,#T_8e93e_row1_col3,#T_8e93e_row1_col4,#T_8e93e_row2_col1,#T_8e93e_row2_col2,#T_8e93e_row7_col1,#T_8e93e_row7_col2,#T_8e93e_row8_col1,#T_8e93e_row8_col2,#T_8e93e_row9_col3,#T_8e93e_row9_col4,#T_8e93e_row10_col1,#T_8e93e_row10_col2,#T_8e93e_row10_col3,#T_8e93e_row10_col4,#T_8e93e_row12_col1,#T_8e93e_row12_col2,#T_8e93e_row12_col3,#T_8e93e_row12_col4,#T_8e93e_row13_col1,#T_8e93e_row13_col2,#T_8e93e_row13_col3,#T_8e93e_row13_col4,#T_8e93e_row14_col1,#T_8e93e_row14_col2,#T_8e93e_row14_col3,#T_8e93e_row14_col4,#T_8e93e_row15_col1,#T_8e93e_row15_col2,#T_8e93e_row15_col3,#T_8e93e_row15_col4,#T_8e93e_row16_col1,#T_8e93e_row16_col2,#T_8e93e_row18_col3,#T_8e93e_row18_col4,#T_8e93e_row19_col1,#T_8e93e_row19_col2,#T_8e93e_row19_col3,#T_8e93e_row19_col4,#T_8e93e_row20_col3,#T_8e93e_row20_col4,#T_8e93e_row22_col3,#T_8e93e_row22_col4,#T_8e93e_row23_col3,#T_8e93e_row23_col4,#T_8e93e_row24_col1,#T_8e93e_row24_col2,#T_8e93e_row24_col3,#T_8e93e_row24_col4,#T_8e93e_row25_col1,#T_8e93e_row25_col2,#T_8e93e_row25_col3,#T_8e93e_row25_col4,#T_8e93e_row26_col1,#T_8e93e_row26_col2,#T_8e93e_row26_col3,#T_8e93e_row26_col4,#T_8e93e_row27_col1,#T_8e93e_row27_col2,#T_8e93e_row27_col3,#T_8e93e_row27_col4,#T_8e93e_row28_col1,#T_8e93e_row28_col2,#T_8e93e_row28_col3,#T_8e93e_row28_col4,#T_8e93e_row29_col1,#T_8e93e_row29_col2,#T_8e93e_row29_col3,#T_8e93e_row29_col4,#T_8e93e_row30_col1,#T_8e93e_row30_col2,#T_8e93e_row30_col3,#T_8e93e_row30_col4,#T_8e93e_row31_col1,#T_8e93e_row31_col2,#T_8e93e_row31_col3,#T_8e93e_row31_col4,#T_8e93e_row32_col1,#T_8e93e_row32_col2,#T_8e93e_row32_col3,#T_8e93e_row32_col4,#T_8e93e_row33_col1,#T_8e93e_row33_col2,#T_8e93e_row33_col3,#T_8e93e_row33_col4,#T_8e93e_row34_col1,#T_8e93e_row34_col2,#T_8e93e_row34_col3,#T_8e93e_row34_col4,#T_8e93e_row35_col1,#T_8e93e_row35_col2,#T_8e93e_row35_col3,#T_8e93e_row35_col4,#T_8e93e_row36_col1,#T_8e93e_row36_col2,#T_8e93e_row36_col3,#T_8e93e_row36_col4,#T_8e93e_row37_col1,#T_8e93e_row37_col2,#T_8e93e_row37_col3,#T_8e93e_row37_col4,#T_8e93e_row38_col1,#T_8e93e_row38_col2,#T_8e93e_row38_col3,#T_8e93e_row38_col4,#T_8e93e_row39_col1,#T_8e93e_row39_col2,#T_8e93e_row39_col3,#T_8e93e_row39_col4{\n",
       "            background-color:  #440154;\n",
       "            color:  #f1f1f1;\n",
       "        }#T_8e93e_row0_col3,#T_8e93e_row0_col4,#T_8e93e_row9_col1,#T_8e93e_row9_col2{\n",
       "            background-color:  #fde725;\n",
       "            color:  #000000;\n",
       "        }#T_8e93e_row1_col1,#T_8e93e_row1_col2{\n",
       "            background-color:  #48c16e;\n",
       "            color:  #000000;\n",
       "        }#T_8e93e_row2_col3,#T_8e93e_row2_col4,#T_8e93e_row11_col1,#T_8e93e_row11_col2{\n",
       "            background-color:  #440256;\n",
       "            color:  #f1f1f1;\n",
       "        }#T_8e93e_row3_col1,#T_8e93e_row3_col2,#T_8e93e_row5_col1,#T_8e93e_row5_col2{\n",
       "            background-color:  #481769;\n",
       "            color:  #f1f1f1;\n",
       "        }#T_8e93e_row3_col3,#T_8e93e_row3_col4,#T_8e93e_row6_col1,#T_8e93e_row6_col2,#T_8e93e_row16_col3,#T_8e93e_row16_col4{\n",
       "            background-color:  #460b5e;\n",
       "            color:  #f1f1f1;\n",
       "        }#T_8e93e_row4_col1,#T_8e93e_row4_col2,#T_8e93e_row22_col1,#T_8e93e_row22_col2{\n",
       "            background-color:  #2f6c8e;\n",
       "            color:  #f1f1f1;\n",
       "        }#T_8e93e_row4_col3,#T_8e93e_row4_col4,#T_8e93e_row5_col3,#T_8e93e_row5_col4{\n",
       "            background-color:  #470d60;\n",
       "            color:  #f1f1f1;\n",
       "        }#T_8e93e_row6_col3,#T_8e93e_row6_col4,#T_8e93e_row7_col3,#T_8e93e_row7_col4{\n",
       "            background-color:  #eae51a;\n",
       "            color:  #000000;\n",
       "        }#T_8e93e_row8_col3,#T_8e93e_row8_col4{\n",
       "            background-color:  #25ac82;\n",
       "            color:  #000000;\n",
       "        }#T_8e93e_row11_col3,#T_8e93e_row11_col4{\n",
       "            background-color:  #365c8d;\n",
       "            color:  #f1f1f1;\n",
       "        }#T_8e93e_row17_col1,#T_8e93e_row17_col2{\n",
       "            background-color:  #2d708e;\n",
       "            color:  #f1f1f1;\n",
       "        }#T_8e93e_row17_col3,#T_8e93e_row17_col4{\n",
       "            background-color:  #450559;\n",
       "            color:  #f1f1f1;\n",
       "        }#T_8e93e_row18_col1,#T_8e93e_row18_col2{\n",
       "            background-color:  #46327e;\n",
       "            color:  #f1f1f1;\n",
       "        }#T_8e93e_row20_col1,#T_8e93e_row20_col2{\n",
       "            background-color:  #48186a;\n",
       "            color:  #f1f1f1;\n",
       "        }#T_8e93e_row21_col1,#T_8e93e_row21_col2{\n",
       "            background-color:  #228c8d;\n",
       "            color:  #000000;\n",
       "        }#T_8e93e_row21_col3,#T_8e93e_row21_col4{\n",
       "            background-color:  #470e61;\n",
       "            color:  #f1f1f1;\n",
       "        }#T_8e93e_row23_col1,#T_8e93e_row23_col2{\n",
       "            background-color:  #2e6d8e;\n",
       "            color:  #f1f1f1;\n",
       "        }</style><table id=\"T_8e93e_\" ><thead>    <tr>        <th class=\"blank level0\" ></th>        <th class=\"col_heading level0 col0\" >type</th>        <th class=\"col_heading level0 col1\" >missing</th>        <th class=\"col_heading level0 col2\" >% missing</th>        <th class=\"col_heading level0 col3\" >unique</th>        <th class=\"col_heading level0 col4\" >% unique</th>        <th class=\"col_heading level0 col5\" >description</th>    </tr></thead><tbody>\n",
       "                <tr>\n",
       "                        <th id=\"T_8e93e_level0_row0\" class=\"row_heading level0 row0\" >id</th>\n",
       "                        <td id=\"T_8e93e_row0_col0\" class=\"data row0 col0\" >float64</td>\n",
       "                        <td id=\"T_8e93e_row0_col1\" class=\"data row0 col1\" >1</td>\n",
       "                        <td id=\"T_8e93e_row0_col2\" class=\"data row0 col2\" >0.000000</td>\n",
       "                        <td id=\"T_8e93e_row0_col3\" class=\"data row0 col3\" >74250</td>\n",
       "                        <td id=\"T_8e93e_row0_col4\" class=\"data row0 col4\" >100.000000</td>\n",
       "                        <td id=\"T_8e93e_row0_col5\" class=\"data row0 col5\" >Pump identifier</td>\n",
       "            </tr>\n",
       "            <tr>\n",
       "                        <th id=\"T_8e93e_level0_row1\" class=\"row_heading level0 row1\" >amount_tsh</th>\n",
       "                        <td id=\"T_8e93e_row1_col0\" class=\"data row1 col0\" >float64</td>\n",
       "                        <td id=\"T_8e93e_row1_col1\" class=\"data row1 col1\" >52049</td>\n",
       "                        <td id=\"T_8e93e_row1_col2\" class=\"data row1 col2\" >70.100000</td>\n",
       "                        <td id=\"T_8e93e_row1_col3\" class=\"data row1 col3\" >102</td>\n",
       "                        <td id=\"T_8e93e_row1_col4\" class=\"data row1 col4\" >0.140000</td>\n",
       "                        <td id=\"T_8e93e_row1_col5\" class=\"data row1 col5\" >Total static head (amount water available to waterpoint)</td>\n",
       "            </tr>\n",
       "            <tr>\n",
       "                        <th id=\"T_8e93e_level0_row2\" class=\"row_heading level0 row2\" >date_recorded</th>\n",
       "                        <td id=\"T_8e93e_row2_col0\" class=\"data row2 col0\" >object</td>\n",
       "                        <td id=\"T_8e93e_row2_col1\" class=\"data row2 col1\" >0</td>\n",
       "                        <td id=\"T_8e93e_row2_col2\" class=\"data row2 col2\" >0.000000</td>\n",
       "                        <td id=\"T_8e93e_row2_col3\" class=\"data row2 col3\" >369</td>\n",
       "                        <td id=\"T_8e93e_row2_col4\" class=\"data row2 col4\" >0.500000</td>\n",
       "                        <td id=\"T_8e93e_row2_col5\" class=\"data row2 col5\" >The date the row was entered</td>\n",
       "            </tr>\n",
       "            <tr>\n",
       "                        <th id=\"T_8e93e_level0_row3\" class=\"row_heading level0 row3\" >funder</th>\n",
       "                        <td id=\"T_8e93e_row3_col0\" class=\"data row3 col0\" >object</td>\n",
       "                        <td id=\"T_8e93e_row3_col1\" class=\"data row3 col1\" >4504</td>\n",
       "                        <td id=\"T_8e93e_row3_col2\" class=\"data row3 col2\" >6.070000</td>\n",
       "                        <td id=\"T_8e93e_row3_col3\" class=\"data row3 col3\" >2141</td>\n",
       "                        <td id=\"T_8e93e_row3_col4\" class=\"data row3 col4\" >2.880000</td>\n",
       "                        <td id=\"T_8e93e_row3_col5\" class=\"data row3 col5\" >Who funded the well</td>\n",
       "            </tr>\n",
       "            <tr>\n",
       "                        <th id=\"T_8e93e_level0_row4\" class=\"row_heading level0 row4\" >gps_height</th>\n",
       "                        <td id=\"T_8e93e_row4_col0\" class=\"data row4 col0\" >float64</td>\n",
       "                        <td id=\"T_8e93e_row4_col1\" class=\"data row4 col1\" >25649</td>\n",
       "                        <td id=\"T_8e93e_row4_col2\" class=\"data row4 col2\" >34.540000</td>\n",
       "                        <td id=\"T_8e93e_row4_col3\" class=\"data row4 col3\" >2456</td>\n",
       "                        <td id=\"T_8e93e_row4_col4\" class=\"data row4 col4\" >3.310000</td>\n",
       "                        <td id=\"T_8e93e_row4_col5\" class=\"data row4 col5\" >Altitude of the well</td>\n",
       "            </tr>\n",
       "            <tr>\n",
       "                        <th id=\"T_8e93e_level0_row5\" class=\"row_heading level0 row5\" >installer</th>\n",
       "                        <td id=\"T_8e93e_row5_col0\" class=\"data row5 col0\" >object</td>\n",
       "                        <td id=\"T_8e93e_row5_col1\" class=\"data row5 col1\" >4532</td>\n",
       "                        <td id=\"T_8e93e_row5_col2\" class=\"data row5 col2\" >6.100000</td>\n",
       "                        <td id=\"T_8e93e_row5_col3\" class=\"data row5 col3\" >2411</td>\n",
       "                        <td id=\"T_8e93e_row5_col4\" class=\"data row5 col4\" >3.250000</td>\n",
       "                        <td id=\"T_8e93e_row5_col5\" class=\"data row5 col5\" >Organization that installed the well</td>\n",
       "            </tr>\n",
       "            <tr>\n",
       "                        <th id=\"T_8e93e_level0_row6\" class=\"row_heading level0 row6\" >longitude</th>\n",
       "                        <td id=\"T_8e93e_row6_col0\" class=\"data row6 col0\" >float64</td>\n",
       "                        <td id=\"T_8e93e_row6_col1\" class=\"data row6 col1\" >2269</td>\n",
       "                        <td id=\"T_8e93e_row6_col2\" class=\"data row6 col2\" >3.060000</td>\n",
       "                        <td id=\"T_8e93e_row6_col3\" class=\"data row6 col3\" >71870</td>\n",
       "                        <td id=\"T_8e93e_row6_col4\" class=\"data row6 col4\" >96.790000</td>\n",
       "                        <td id=\"T_8e93e_row6_col5\" class=\"data row6 col5\" >GPS coordinate</td>\n",
       "            </tr>\n",
       "            <tr>\n",
       "                        <th id=\"T_8e93e_level0_row7\" class=\"row_heading level0 row7\" >latitude</th>\n",
       "                        <td id=\"T_8e93e_row7_col0\" class=\"data row7 col0\" >float64</td>\n",
       "                        <td id=\"T_8e93e_row7_col1\" class=\"data row7 col1\" >0</td>\n",
       "                        <td id=\"T_8e93e_row7_col2\" class=\"data row7 col2\" >0.000000</td>\n",
       "                        <td id=\"T_8e93e_row7_col3\" class=\"data row7 col3\" >71869</td>\n",
       "                        <td id=\"T_8e93e_row7_col4\" class=\"data row7 col4\" >96.790000</td>\n",
       "                        <td id=\"T_8e93e_row7_col5\" class=\"data row7 col5\" >GPS coordinate</td>\n",
       "            </tr>\n",
       "            <tr>\n",
       "                        <th id=\"T_8e93e_level0_row8\" class=\"row_heading level0 row8\" >wpt_name</th>\n",
       "                        <td id=\"T_8e93e_row8_col0\" class=\"data row8 col0\" >object</td>\n",
       "                        <td id=\"T_8e93e_row8_col1\" class=\"data row8 col1\" >0</td>\n",
       "                        <td id=\"T_8e93e_row8_col2\" class=\"data row8 col2\" >0.000000</td>\n",
       "                        <td id=\"T_8e93e_row8_col3\" class=\"data row8 col3\" >45684</td>\n",
       "                        <td id=\"T_8e93e_row8_col4\" class=\"data row8 col4\" >61.530000</td>\n",
       "                        <td id=\"T_8e93e_row8_col5\" class=\"data row8 col5\" >Name of the waterpoint if there is one</td>\n",
       "            </tr>\n",
       "            <tr>\n",
       "                        <th id=\"T_8e93e_level0_row9\" class=\"row_heading level0 row9\" >num_private</th>\n",
       "                        <td id=\"T_8e93e_row9_col0\" class=\"data row9 col0\" >float64</td>\n",
       "                        <td id=\"T_8e93e_row9_col1\" class=\"data row9 col1\" >73299</td>\n",
       "                        <td id=\"T_8e93e_row9_col2\" class=\"data row9 col2\" >98.720000</td>\n",
       "                        <td id=\"T_8e93e_row9_col3\" class=\"data row9 col3\" >68</td>\n",
       "                        <td id=\"T_8e93e_row9_col4\" class=\"data row9 col4\" >0.090000</td>\n",
       "                        <td id=\"T_8e93e_row9_col5\" class=\"data row9 col5\" >Unknown</td>\n",
       "            </tr>\n",
       "            <tr>\n",
       "                        <th id=\"T_8e93e_level0_row10\" class=\"row_heading level0 row10\" >basin</th>\n",
       "                        <td id=\"T_8e93e_row10_col0\" class=\"data row10 col0\" >object</td>\n",
       "                        <td id=\"T_8e93e_row10_col1\" class=\"data row10 col1\" >0</td>\n",
       "                        <td id=\"T_8e93e_row10_col2\" class=\"data row10 col2\" >0.000000</td>\n",
       "                        <td id=\"T_8e93e_row10_col3\" class=\"data row10 col3\" >9</td>\n",
       "                        <td id=\"T_8e93e_row10_col4\" class=\"data row10 col4\" >0.010000</td>\n",
       "                        <td id=\"T_8e93e_row10_col5\" class=\"data row10 col5\" >Geographic water basin</td>\n",
       "            </tr>\n",
       "            <tr>\n",
       "                        <th id=\"T_8e93e_level0_row11\" class=\"row_heading level0 row11\" >subvillage</th>\n",
       "                        <td id=\"T_8e93e_row11_col0\" class=\"data row11 col0\" >object</td>\n",
       "                        <td id=\"T_8e93e_row11_col1\" class=\"data row11 col1\" >470</td>\n",
       "                        <td id=\"T_8e93e_row11_col2\" class=\"data row11 col2\" >0.630000</td>\n",
       "                        <td id=\"T_8e93e_row11_col3\" class=\"data row11 col3\" >21426</td>\n",
       "                        <td id=\"T_8e93e_row11_col4\" class=\"data row11 col4\" >28.860000</td>\n",
       "                        <td id=\"T_8e93e_row11_col5\" class=\"data row11 col5\" >Geographic location</td>\n",
       "            </tr>\n",
       "            <tr>\n",
       "                        <th id=\"T_8e93e_level0_row12\" class=\"row_heading level0 row12\" >region</th>\n",
       "                        <td id=\"T_8e93e_row12_col0\" class=\"data row12 col0\" >object</td>\n",
       "                        <td id=\"T_8e93e_row12_col1\" class=\"data row12 col1\" >0</td>\n",
       "                        <td id=\"T_8e93e_row12_col2\" class=\"data row12 col2\" >0.000000</td>\n",
       "                        <td id=\"T_8e93e_row12_col3\" class=\"data row12 col3\" >21</td>\n",
       "                        <td id=\"T_8e93e_row12_col4\" class=\"data row12 col4\" >0.030000</td>\n",
       "                        <td id=\"T_8e93e_row12_col5\" class=\"data row12 col5\" >Geographic location</td>\n",
       "            </tr>\n",
       "            <tr>\n",
       "                        <th id=\"T_8e93e_level0_row13\" class=\"row_heading level0 row13\" >region_code</th>\n",
       "                        <td id=\"T_8e93e_row13_col0\" class=\"data row13 col0\" >int64</td>\n",
       "                        <td id=\"T_8e93e_row13_col1\" class=\"data row13 col1\" >0</td>\n",
       "                        <td id=\"T_8e93e_row13_col2\" class=\"data row13 col2\" >0.000000</td>\n",
       "                        <td id=\"T_8e93e_row13_col3\" class=\"data row13 col3\" >27</td>\n",
       "                        <td id=\"T_8e93e_row13_col4\" class=\"data row13 col4\" >0.040000</td>\n",
       "                        <td id=\"T_8e93e_row13_col5\" class=\"data row13 col5\" >Geographic location (coded)</td>\n",
       "            </tr>\n",
       "            <tr>\n",
       "                        <th id=\"T_8e93e_level0_row14\" class=\"row_heading level0 row14\" >district_code</th>\n",
       "                        <td id=\"T_8e93e_row14_col0\" class=\"data row14 col0\" >float64</td>\n",
       "                        <td id=\"T_8e93e_row14_col1\" class=\"data row14 col1\" >27</td>\n",
       "                        <td id=\"T_8e93e_row14_col2\" class=\"data row14 col2\" >0.040000</td>\n",
       "                        <td id=\"T_8e93e_row14_col3\" class=\"data row14 col3\" >20</td>\n",
       "                        <td id=\"T_8e93e_row14_col4\" class=\"data row14 col4\" >0.030000</td>\n",
       "                        <td id=\"T_8e93e_row14_col5\" class=\"data row14 col5\" >Geographic location (coded)</td>\n",
       "            </tr>\n",
       "            <tr>\n",
       "                        <th id=\"T_8e93e_level0_row15\" class=\"row_heading level0 row15\" >lga</th>\n",
       "                        <td id=\"T_8e93e_row15_col0\" class=\"data row15 col0\" >object</td>\n",
       "                        <td id=\"T_8e93e_row15_col1\" class=\"data row15 col1\" >0</td>\n",
       "                        <td id=\"T_8e93e_row15_col2\" class=\"data row15 col2\" >0.000000</td>\n",
       "                        <td id=\"T_8e93e_row15_col3\" class=\"data row15 col3\" >125</td>\n",
       "                        <td id=\"T_8e93e_row15_col4\" class=\"data row15 col4\" >0.170000</td>\n",
       "                        <td id=\"T_8e93e_row15_col5\" class=\"data row15 col5\" >Geographic location</td>\n",
       "            </tr>\n",
       "            <tr>\n",
       "                        <th id=\"T_8e93e_level0_row16\" class=\"row_heading level0 row16\" >ward</th>\n",
       "                        <td id=\"T_8e93e_row16_col0\" class=\"data row16 col0\" >object</td>\n",
       "                        <td id=\"T_8e93e_row16_col1\" class=\"data row16 col1\" >0</td>\n",
       "                        <td id=\"T_8e93e_row16_col2\" class=\"data row16 col2\" >0.000000</td>\n",
       "                        <td id=\"T_8e93e_row16_col3\" class=\"data row16 col3\" >2098</td>\n",
       "                        <td id=\"T_8e93e_row16_col4\" class=\"data row16 col4\" >2.830000</td>\n",
       "                        <td id=\"T_8e93e_row16_col5\" class=\"data row16 col5\" >Geographic location</td>\n",
       "            </tr>\n",
       "            <tr>\n",
       "                        <th id=\"T_8e93e_level0_row17\" class=\"row_heading level0 row17\" >population</th>\n",
       "                        <td id=\"T_8e93e_row17_col0\" class=\"data row17 col0\" >float64</td>\n",
       "                        <td id=\"T_8e93e_row17_col1\" class=\"data row17 col1\" >26834</td>\n",
       "                        <td id=\"T_8e93e_row17_col2\" class=\"data row17 col2\" >36.140000</td>\n",
       "                        <td id=\"T_8e93e_row17_col3\" class=\"data row17 col3\" >1128</td>\n",
       "                        <td id=\"T_8e93e_row17_col4\" class=\"data row17 col4\" >1.520000</td>\n",
       "                        <td id=\"T_8e93e_row17_col5\" class=\"data row17 col5\" >Population around the well</td>\n",
       "            </tr>\n",
       "            <tr>\n",
       "                        <th id=\"T_8e93e_level0_row18\" class=\"row_heading level0 row18\" >public_meeting</th>\n",
       "                        <td id=\"T_8e93e_row18_col0\" class=\"data row18 col0\" >object</td>\n",
       "                        <td id=\"T_8e93e_row18_col1\" class=\"data row18 col1\" >10501</td>\n",
       "                        <td id=\"T_8e93e_row18_col2\" class=\"data row18 col2\" >14.140000</td>\n",
       "                        <td id=\"T_8e93e_row18_col3\" class=\"data row18 col3\" >2</td>\n",
       "                        <td id=\"T_8e93e_row18_col4\" class=\"data row18 col4\" >0.000000</td>\n",
       "                        <td id=\"T_8e93e_row18_col5\" class=\"data row18 col5\" >True/False</td>\n",
       "            </tr>\n",
       "            <tr>\n",
       "                        <th id=\"T_8e93e_level0_row19\" class=\"row_heading level0 row19\" >recorded_by</th>\n",
       "                        <td id=\"T_8e93e_row19_col0\" class=\"data row19 col0\" >object</td>\n",
       "                        <td id=\"T_8e93e_row19_col1\" class=\"data row19 col1\" >0</td>\n",
       "                        <td id=\"T_8e93e_row19_col2\" class=\"data row19 col2\" >0.000000</td>\n",
       "                        <td id=\"T_8e93e_row19_col3\" class=\"data row19 col3\" >1</td>\n",
       "                        <td id=\"T_8e93e_row19_col4\" class=\"data row19 col4\" >0.000000</td>\n",
       "                        <td id=\"T_8e93e_row19_col5\" class=\"data row19 col5\" >Group entering this row of data</td>\n",
       "            </tr>\n",
       "            <tr>\n",
       "                        <th id=\"T_8e93e_level0_row20\" class=\"row_heading level0 row20\" >scheme_management</th>\n",
       "                        <td id=\"T_8e93e_row20_col0\" class=\"data row20 col0\" >object</td>\n",
       "                        <td id=\"T_8e93e_row20_col1\" class=\"data row20 col1\" >4846</td>\n",
       "                        <td id=\"T_8e93e_row20_col2\" class=\"data row20 col2\" >6.530000</td>\n",
       "                        <td id=\"T_8e93e_row20_col3\" class=\"data row20 col3\" >13</td>\n",
       "                        <td id=\"T_8e93e_row20_col4\" class=\"data row20 col4\" >0.020000</td>\n",
       "                        <td id=\"T_8e93e_row20_col5\" class=\"data row20 col5\" >Who operates the waterpoint</td>\n",
       "            </tr>\n",
       "            <tr>\n",
       "                        <th id=\"T_8e93e_level0_row21\" class=\"row_heading level0 row21\" >scheme_name</th>\n",
       "                        <td id=\"T_8e93e_row21_col0\" class=\"data row21 col0\" >object</td>\n",
       "                        <td id=\"T_8e93e_row21_col1\" class=\"data row21 col1\" >35258</td>\n",
       "                        <td id=\"T_8e93e_row21_col2\" class=\"data row21 col2\" >47.490000</td>\n",
       "                        <td id=\"T_8e93e_row21_col3\" class=\"data row21 col3\" >2869</td>\n",
       "                        <td id=\"T_8e93e_row21_col4\" class=\"data row21 col4\" >3.860000</td>\n",
       "                        <td id=\"T_8e93e_row21_col5\" class=\"data row21 col5\" >Who operates the waterpoint</td>\n",
       "            </tr>\n",
       "            <tr>\n",
       "                        <th id=\"T_8e93e_level0_row22\" class=\"row_heading level0 row22\" >permit</th>\n",
       "                        <td id=\"T_8e93e_row22_col0\" class=\"data row22 col0\" >object</td>\n",
       "                        <td id=\"T_8e93e_row22_col1\" class=\"data row22 col1\" >25644</td>\n",
       "                        <td id=\"T_8e93e_row22_col2\" class=\"data row22 col2\" >34.540000</td>\n",
       "                        <td id=\"T_8e93e_row22_col3\" class=\"data row22 col3\" >2</td>\n",
       "                        <td id=\"T_8e93e_row22_col4\" class=\"data row22 col4\" >0.000000</td>\n",
       "                        <td id=\"T_8e93e_row22_col5\" class=\"data row22 col5\" >If the waterpoint is permitted</td>\n",
       "            </tr>\n",
       "            <tr>\n",
       "                        <th id=\"T_8e93e_level0_row23\" class=\"row_heading level0 row23\" >construction_year</th>\n",
       "                        <td id=\"T_8e93e_row23_col0\" class=\"data row23 col0\" >float64</td>\n",
       "                        <td id=\"T_8e93e_row23_col1\" class=\"data row23 col1\" >25969</td>\n",
       "                        <td id=\"T_8e93e_row23_col2\" class=\"data row23 col2\" >34.980000</td>\n",
       "                        <td id=\"T_8e93e_row23_col3\" class=\"data row23 col3\" >55</td>\n",
       "                        <td id=\"T_8e93e_row23_col4\" class=\"data row23 col4\" >0.070000</td>\n",
       "                        <td id=\"T_8e93e_row23_col5\" class=\"data row23 col5\" >Year the waterpoint was constructed</td>\n",
       "            </tr>\n",
       "            <tr>\n",
       "                        <th id=\"T_8e93e_level0_row24\" class=\"row_heading level0 row24\" >extraction_type</th>\n",
       "                        <td id=\"T_8e93e_row24_col0\" class=\"data row24 col0\" >object</td>\n",
       "                        <td id=\"T_8e93e_row24_col1\" class=\"data row24 col1\" >0</td>\n",
       "                        <td id=\"T_8e93e_row24_col2\" class=\"data row24 col2\" >0.000000</td>\n",
       "                        <td id=\"T_8e93e_row24_col3\" class=\"data row24 col3\" >18</td>\n",
       "                        <td id=\"T_8e93e_row24_col4\" class=\"data row24 col4\" >0.020000</td>\n",
       "                        <td id=\"T_8e93e_row24_col5\" class=\"data row24 col5\" >The kind of extraction the waterpoint uses</td>\n",
       "            </tr>\n",
       "            <tr>\n",
       "                        <th id=\"T_8e93e_level0_row25\" class=\"row_heading level0 row25\" >extraction_type_group</th>\n",
       "                        <td id=\"T_8e93e_row25_col0\" class=\"data row25 col0\" >object</td>\n",
       "                        <td id=\"T_8e93e_row25_col1\" class=\"data row25 col1\" >0</td>\n",
       "                        <td id=\"T_8e93e_row25_col2\" class=\"data row25 col2\" >0.000000</td>\n",
       "                        <td id=\"T_8e93e_row25_col3\" class=\"data row25 col3\" >13</td>\n",
       "                        <td id=\"T_8e93e_row25_col4\" class=\"data row25 col4\" >0.020000</td>\n",
       "                        <td id=\"T_8e93e_row25_col5\" class=\"data row25 col5\" >The kind of extraction the waterpoint uses</td>\n",
       "            </tr>\n",
       "            <tr>\n",
       "                        <th id=\"T_8e93e_level0_row26\" class=\"row_heading level0 row26\" >extraction_type_class</th>\n",
       "                        <td id=\"T_8e93e_row26_col0\" class=\"data row26 col0\" >object</td>\n",
       "                        <td id=\"T_8e93e_row26_col1\" class=\"data row26 col1\" >0</td>\n",
       "                        <td id=\"T_8e93e_row26_col2\" class=\"data row26 col2\" >0.000000</td>\n",
       "                        <td id=\"T_8e93e_row26_col3\" class=\"data row26 col3\" >7</td>\n",
       "                        <td id=\"T_8e93e_row26_col4\" class=\"data row26 col4\" >0.010000</td>\n",
       "                        <td id=\"T_8e93e_row26_col5\" class=\"data row26 col5\" >The kind of extraction the waterpoint uses</td>\n",
       "            </tr>\n",
       "            <tr>\n",
       "                        <th id=\"T_8e93e_level0_row27\" class=\"row_heading level0 row27\" >management</th>\n",
       "                        <td id=\"T_8e93e_row27_col0\" class=\"data row27 col0\" >object</td>\n",
       "                        <td id=\"T_8e93e_row27_col1\" class=\"data row27 col1\" >0</td>\n",
       "                        <td id=\"T_8e93e_row27_col2\" class=\"data row27 col2\" >0.000000</td>\n",
       "                        <td id=\"T_8e93e_row27_col3\" class=\"data row27 col3\" >12</td>\n",
       "                        <td id=\"T_8e93e_row27_col4\" class=\"data row27 col4\" >0.020000</td>\n",
       "                        <td id=\"T_8e93e_row27_col5\" class=\"data row27 col5\" >How the waterpoint is managed</td>\n",
       "            </tr>\n",
       "            <tr>\n",
       "                        <th id=\"T_8e93e_level0_row28\" class=\"row_heading level0 row28\" >management_group</th>\n",
       "                        <td id=\"T_8e93e_row28_col0\" class=\"data row28 col0\" >object</td>\n",
       "                        <td id=\"T_8e93e_row28_col1\" class=\"data row28 col1\" >0</td>\n",
       "                        <td id=\"T_8e93e_row28_col2\" class=\"data row28 col2\" >0.000000</td>\n",
       "                        <td id=\"T_8e93e_row28_col3\" class=\"data row28 col3\" >5</td>\n",
       "                        <td id=\"T_8e93e_row28_col4\" class=\"data row28 col4\" >0.010000</td>\n",
       "                        <td id=\"T_8e93e_row28_col5\" class=\"data row28 col5\" >How the waterpoint is managed</td>\n",
       "            </tr>\n",
       "            <tr>\n",
       "                        <th id=\"T_8e93e_level0_row29\" class=\"row_heading level0 row29\" >payment</th>\n",
       "                        <td id=\"T_8e93e_row29_col0\" class=\"data row29 col0\" >object</td>\n",
       "                        <td id=\"T_8e93e_row29_col1\" class=\"data row29 col1\" >0</td>\n",
       "                        <td id=\"T_8e93e_row29_col2\" class=\"data row29 col2\" >0.000000</td>\n",
       "                        <td id=\"T_8e93e_row29_col3\" class=\"data row29 col3\" >7</td>\n",
       "                        <td id=\"T_8e93e_row29_col4\" class=\"data row29 col4\" >0.010000</td>\n",
       "                        <td id=\"T_8e93e_row29_col5\" class=\"data row29 col5\" >What the water costs</td>\n",
       "            </tr>\n",
       "            <tr>\n",
       "                        <th id=\"T_8e93e_level0_row30\" class=\"row_heading level0 row30\" >payment_type</th>\n",
       "                        <td id=\"T_8e93e_row30_col0\" class=\"data row30 col0\" >object</td>\n",
       "                        <td id=\"T_8e93e_row30_col1\" class=\"data row30 col1\" >0</td>\n",
       "                        <td id=\"T_8e93e_row30_col2\" class=\"data row30 col2\" >0.000000</td>\n",
       "                        <td id=\"T_8e93e_row30_col3\" class=\"data row30 col3\" >7</td>\n",
       "                        <td id=\"T_8e93e_row30_col4\" class=\"data row30 col4\" >0.010000</td>\n",
       "                        <td id=\"T_8e93e_row30_col5\" class=\"data row30 col5\" >What the water costs</td>\n",
       "            </tr>\n",
       "            <tr>\n",
       "                        <th id=\"T_8e93e_level0_row31\" class=\"row_heading level0 row31\" >water_quality</th>\n",
       "                        <td id=\"T_8e93e_row31_col0\" class=\"data row31 col0\" >object</td>\n",
       "                        <td id=\"T_8e93e_row31_col1\" class=\"data row31 col1\" >0</td>\n",
       "                        <td id=\"T_8e93e_row31_col2\" class=\"data row31 col2\" >0.000000</td>\n",
       "                        <td id=\"T_8e93e_row31_col3\" class=\"data row31 col3\" >8</td>\n",
       "                        <td id=\"T_8e93e_row31_col4\" class=\"data row31 col4\" >0.010000</td>\n",
       "                        <td id=\"T_8e93e_row31_col5\" class=\"data row31 col5\" >The quality of the water</td>\n",
       "            </tr>\n",
       "            <tr>\n",
       "                        <th id=\"T_8e93e_level0_row32\" class=\"row_heading level0 row32\" >quality_group</th>\n",
       "                        <td id=\"T_8e93e_row32_col0\" class=\"data row32 col0\" >object</td>\n",
       "                        <td id=\"T_8e93e_row32_col1\" class=\"data row32 col1\" >0</td>\n",
       "                        <td id=\"T_8e93e_row32_col2\" class=\"data row32 col2\" >0.000000</td>\n",
       "                        <td id=\"T_8e93e_row32_col3\" class=\"data row32 col3\" >6</td>\n",
       "                        <td id=\"T_8e93e_row32_col4\" class=\"data row32 col4\" >0.010000</td>\n",
       "                        <td id=\"T_8e93e_row32_col5\" class=\"data row32 col5\" >The quality of the water</td>\n",
       "            </tr>\n",
       "            <tr>\n",
       "                        <th id=\"T_8e93e_level0_row33\" class=\"row_heading level0 row33\" >quantity</th>\n",
       "                        <td id=\"T_8e93e_row33_col0\" class=\"data row33 col0\" >object</td>\n",
       "                        <td id=\"T_8e93e_row33_col1\" class=\"data row33 col1\" >0</td>\n",
       "                        <td id=\"T_8e93e_row33_col2\" class=\"data row33 col2\" >0.000000</td>\n",
       "                        <td id=\"T_8e93e_row33_col3\" class=\"data row33 col3\" >5</td>\n",
       "                        <td id=\"T_8e93e_row33_col4\" class=\"data row33 col4\" >0.010000</td>\n",
       "                        <td id=\"T_8e93e_row33_col5\" class=\"data row33 col5\" >The quantity of water</td>\n",
       "            </tr>\n",
       "            <tr>\n",
       "                        <th id=\"T_8e93e_level0_row34\" class=\"row_heading level0 row34\" >quantity_group</th>\n",
       "                        <td id=\"T_8e93e_row34_col0\" class=\"data row34 col0\" >object</td>\n",
       "                        <td id=\"T_8e93e_row34_col1\" class=\"data row34 col1\" >0</td>\n",
       "                        <td id=\"T_8e93e_row34_col2\" class=\"data row34 col2\" >0.000000</td>\n",
       "                        <td id=\"T_8e93e_row34_col3\" class=\"data row34 col3\" >5</td>\n",
       "                        <td id=\"T_8e93e_row34_col4\" class=\"data row34 col4\" >0.010000</td>\n",
       "                        <td id=\"T_8e93e_row34_col5\" class=\"data row34 col5\" >The quantity of water</td>\n",
       "            </tr>\n",
       "            <tr>\n",
       "                        <th id=\"T_8e93e_level0_row35\" class=\"row_heading level0 row35\" >source</th>\n",
       "                        <td id=\"T_8e93e_row35_col0\" class=\"data row35 col0\" >object</td>\n",
       "                        <td id=\"T_8e93e_row35_col1\" class=\"data row35 col1\" >0</td>\n",
       "                        <td id=\"T_8e93e_row35_col2\" class=\"data row35 col2\" >0.000000</td>\n",
       "                        <td id=\"T_8e93e_row35_col3\" class=\"data row35 col3\" >10</td>\n",
       "                        <td id=\"T_8e93e_row35_col4\" class=\"data row35 col4\" >0.010000</td>\n",
       "                        <td id=\"T_8e93e_row35_col5\" class=\"data row35 col5\" >The source of the water</td>\n",
       "            </tr>\n",
       "            <tr>\n",
       "                        <th id=\"T_8e93e_level0_row36\" class=\"row_heading level0 row36\" >source_type</th>\n",
       "                        <td id=\"T_8e93e_row36_col0\" class=\"data row36 col0\" >object</td>\n",
       "                        <td id=\"T_8e93e_row36_col1\" class=\"data row36 col1\" >0</td>\n",
       "                        <td id=\"T_8e93e_row36_col2\" class=\"data row36 col2\" >0.000000</td>\n",
       "                        <td id=\"T_8e93e_row36_col3\" class=\"data row36 col3\" >7</td>\n",
       "                        <td id=\"T_8e93e_row36_col4\" class=\"data row36 col4\" >0.010000</td>\n",
       "                        <td id=\"T_8e93e_row36_col5\" class=\"data row36 col5\" >The source of the water</td>\n",
       "            </tr>\n",
       "            <tr>\n",
       "                        <th id=\"T_8e93e_level0_row37\" class=\"row_heading level0 row37\" >source_class</th>\n",
       "                        <td id=\"T_8e93e_row37_col0\" class=\"data row37 col0\" >object</td>\n",
       "                        <td id=\"T_8e93e_row37_col1\" class=\"data row37 col1\" >0</td>\n",
       "                        <td id=\"T_8e93e_row37_col2\" class=\"data row37 col2\" >0.000000</td>\n",
       "                        <td id=\"T_8e93e_row37_col3\" class=\"data row37 col3\" >3</td>\n",
       "                        <td id=\"T_8e93e_row37_col4\" class=\"data row37 col4\" >0.000000</td>\n",
       "                        <td id=\"T_8e93e_row37_col5\" class=\"data row37 col5\" >The source of the water</td>\n",
       "            </tr>\n",
       "            <tr>\n",
       "                        <th id=\"T_8e93e_level0_row38\" class=\"row_heading level0 row38\" >waterpoint_type</th>\n",
       "                        <td id=\"T_8e93e_row38_col0\" class=\"data row38 col0\" >object</td>\n",
       "                        <td id=\"T_8e93e_row38_col1\" class=\"data row38 col1\" >0</td>\n",
       "                        <td id=\"T_8e93e_row38_col2\" class=\"data row38 col2\" >0.000000</td>\n",
       "                        <td id=\"T_8e93e_row38_col3\" class=\"data row38 col3\" >7</td>\n",
       "                        <td id=\"T_8e93e_row38_col4\" class=\"data row38 col4\" >0.010000</td>\n",
       "                        <td id=\"T_8e93e_row38_col5\" class=\"data row38 col5\" >The kind of waterpoint</td>\n",
       "            </tr>\n",
       "            <tr>\n",
       "                        <th id=\"T_8e93e_level0_row39\" class=\"row_heading level0 row39\" >waterpoint_type_group</th>\n",
       "                        <td id=\"T_8e93e_row39_col0\" class=\"data row39 col0\" >object</td>\n",
       "                        <td id=\"T_8e93e_row39_col1\" class=\"data row39 col1\" >0</td>\n",
       "                        <td id=\"T_8e93e_row39_col2\" class=\"data row39 col2\" >0.000000</td>\n",
       "                        <td id=\"T_8e93e_row39_col3\" class=\"data row39 col3\" >6</td>\n",
       "                        <td id=\"T_8e93e_row39_col4\" class=\"data row39 col4\" >0.010000</td>\n",
       "                        <td id=\"T_8e93e_row39_col5\" class=\"data row39 col5\" >The kind of waterpoint</td>\n",
       "            </tr>\n",
       "    </tbody></table>"
      ],
      "text/plain": [
       "<pandas.io.formats.style.Styler at 0x1ef441b1700>"
      ]
     },
     "execution_count": 6,
     "metadata": {},
     "output_type": "execute_result"
    }
   ],
   "source": [
    "show_missing_unique(df.replace(0, np.nan), info)"
   ]
  },
  {
   "cell_type": "markdown",
   "metadata": {},
   "source": [
    "Nos encontramos con una gran cantidad de variables categóricas. Además se observa que parece que hay variables repetidas o en pares, las cuales analizaremos posteriormente.\n",
    "\n",
    "Observamos aquellas variables que son extrañas por su descripción, número de missings o número de uniques. Hay que tener en cuenta que el número de missings de las variables booleanas no corresponde con la realidad, puesto que estamos reemplazando valores False con missing."
   ]
  },
  {
   "cell_type": "code",
   "execution_count": 7,
   "metadata": {
    "ExecuteTime": {
     "end_time": "2022-03-16T10:46:01.866794Z",
     "start_time": "2022-03-16T10:46:01.837791Z"
    }
   },
   "outputs": [],
   "source": [
    "initial_drop = [\n",
    "    'id', # Identifier\n",
    "    'wpt_name', # Not interesting\n",
    "    'num_private', # Unknown + almost all values are 0\n",
    "    'recorded_by', # Not interesting\n",
    "    'scheme_name' # Too many missing values\n",
    "]\n",
    "\n",
    "df.drop(columns=initial_drop, inplace=True)"
   ]
  },
  {
   "cell_type": "markdown",
   "metadata": {},
   "source": [
    "Realizamos un análisis de correlación para comprobar si las variables están repetidas."
   ]
  },
  {
   "cell_type": "code",
   "execution_count": 28,
   "metadata": {
    "ExecuteTime": {
     "end_time": "2022-03-12T11:30:57.299537Z",
     "start_time": "2022-03-12T11:30:55.536084Z"
    }
   },
   "outputs": [
    {
     "data": {
      "image/png": "[encoded data removed]",
      "text/plain": [
       "<Figure size 720x576 with 2 Axes>"
      ]
     },
     "metadata": {
      "needs_background": "light"
     },
     "output_type": "display_data"
    }
   ],
   "source": [
    "plot_corr(df)"
   ]
  },
  {
   "cell_type": "code",
   "execution_count": 8,
   "metadata": {
    "ExecuteTime": {
     "end_time": "2022-03-16T10:46:03.733974Z",
     "start_time": "2022-03-16T10:46:03.705974Z"
    }
   },
   "outputs": [],
   "source": [
    "# Eliminamos las columnas por ser repetidas. \n",
    "# Hemos seleccionado aquellas variables categóricas que son muy similares a otras de la misma clase\n",
    "\n",
    "repeated_columns = [\n",
    "    'extraction_type_group',\n",
    "    'quantity_group',\n",
    "    'source_type',\n",
    "    'waterpoint_type_group',\n",
    "    'payment_type',\n",
    "    'management_group',\n",
    "    'extraction_type',\n",
    "    'water_quality',\n",
    "    'management',\n",
    "    'installer'\n",
    "]\n",
    "\n",
    "df.drop(columns=repeated_columns, inplace=True)"
   ]
  },
  {
   "cell_type": "markdown",
   "metadata": {
    "ExecuteTime": {
     "end_time": "2022-03-16T10:46:06.078774Z",
     "start_time": "2022-03-16T10:46:06.030428Z"
    }
   },
   "source": [
    "Procedemos a realizar feature engineering. La variable `date_recorded` la pasaremos a formato año y la asignaremos a una nueva variable denominada `year_recorded`. Además imputaremos aquellos años de la variable `construction_year` que sean igual a 0 con el valor medio. Hecho esto, imputaremos con el valor medio los datos de `year_recorded` que sean inferiores a su respectivo valor de `construction_year`, puesto que no es posible que la fecha de construcción sea superior a la de inspección del pozo. \n",
    "\n",
    "Una vez hecho esto, generamo una nueva variable denominada `age` que contendrá la edad del pozo desde que se construyó hasta que se realizó la inspección. Por último, eliminaremos las columnas necesarias para la generación de esta nueva variable."
   ]
  },
  {
   "cell_type": "code",
   "execution_count": 11,
   "metadata": {
    "ExecuteTime": {
     "end_time": "2022-03-16T10:50:42.985616Z",
     "start_time": "2022-03-16T10:50:42.862120Z"
    }
   },
   "outputs": [],
   "source": [
    "# Generamos 2 nuevas columnas: Año y mes en el que se recogió el dato\n",
    "df['year_recorded'] = pd.DatetimeIndex(df ['date_recorded']).year\n",
    "\n",
    "df.drop(columns=['date_recorded'], inplace=True)\n",
    "\n",
    "# Asignamos el valor medio a aquellos valores de year recorded que sean inferiores a construction_year,\n",
    "# de esta forma evitaremos aquellos pozos cuya edad sea inferior a 0 (no posible)\n",
    "mean_year_recorded = round(df.loc[df.year_recorded > df.construction_year, 'year_recorded'].mean())\n",
    "df.loc[df.year_recorded < df.construction_year, 'year_recorded'] = mean_year_recorded\n",
    "\n",
    "# Rellenamos el año de construcción con la media de los valores\n",
    "df['construction_year'].replace(0, round(df.loc[df['construction_year'] > 0, 'construction_year'].mean()), inplace=True)\n",
    "\n",
    "# Calculamos la edad de los pozos\n",
    "df['age'] = df['year_recorded'] - df['construction_year']\n",
    "df.drop(columns=['year_recorded','construction_year'], inplace=True)"
   ]
  },
  {
   "cell_type": "markdown",
   "metadata": {},
   "source": [
    "A continuación procedemos a tratar las variables relacionadas con GPS. Observamos en el siguiente mapa de latitud-longitud-altura gsps, que hay muchos valores 0 de altura y valores 0 de latitud y longitud. Vamos a tratarlos haciendo uso del algoritmo de regresión lineal en base a los valores de otras columnas como region, lga, ward, que corresponden a zonas geográficas."
   ]
  },
  {
   "cell_type": "code",
   "execution_count": 10,
   "metadata": {
    "ExecuteTime": {
     "end_time": "2022-03-16T10:50:42.089078Z",
     "start_time": "2022-03-16T10:50:40.479390Z"
    }
   },
   "outputs": [
    {
     "data": {
      "image/png": "[encoded data removed]",
      "text/plain": [
       "<Figure size 504x360 with 2 Axes>"
      ]
     },
     "metadata": {
      "needs_background": "light"
     },
     "output_type": "display_data"
    }
   ],
   "source": [
    "plot_map(df, df['gps_height'])"
   ]
  },
  {
   "cell_type": "markdown",
   "metadata": {},
   "source": [
    "El primer paso consiste en pasar los valores perdidos a np.nan. Una vez hecho esto, entrenaremos con variables como `lga`, `region`, entre otras (se pasarán a numéricas mediante un LabelEncoder), un modelo de regresión lineal para latitud y longitud. \n",
    "\n",
    "Una vez se hayan imputado los valores perdidos de `latitude` y `longitude`, se entrena un modelo de regresión lineal basado en estas 2 variables, y con ello imputamos los valores perdidos de `gps_height`."
   ]
  },
  {
   "cell_type": "code",
   "execution_count": 12,
   "metadata": {
    "ExecuteTime": {
     "end_time": "2022-03-16T10:54:26.228532Z",
     "start_time": "2022-03-16T10:54:25.631141Z"
    }
   },
   "outputs": [],
   "source": [
    "# Asignamos a longitude = 0 y latitude > -0.3 el valor np.nan | Asignamos np.nan a gps_height = 0\n",
    "df.loc[df.latitude > -0.3, 'latitude'] = np.nan\n",
    "df.loc[df.longitude == 0, 'longitude'] = np.nan\n",
    "df.loc[df.gps_height == 0, 'gps_height'] = np.nan\n",
    "\n",
    "# Imputamos los valores geográficos en base a los valores geográficos\n",
    "df_encoded = df[['region','region_code','district_code','lga','ward']].copy()\n",
    "for col in df_encoded:\n",
    "    df_encoded[col] = LabelEncoder().fit_transform(df_encoded[col])\n",
    "df_encoded[['latitude','longitude']] = df[['latitude','longitude']]\n",
    "\n",
    "# Latitude\n",
    "reg = LinearRegression(n_jobs=-1).fit(df_encoded.loc[df_encoded.latitude.notna()].drop(columns=['latitude','longitude']),\n",
    "                                          df_encoded.loc[df_encoded.latitude.notna(), 'latitude'])\n",
    "x = reg.predict(df_encoded.loc[df_encoded.latitude.isna()].drop(columns=['latitude','longitude']))\n",
    "df.loc[df.latitude.isna(), 'latitude'] = x\n",
    "\n",
    "# Longitude\n",
    "reg = LinearRegression(n_jobs=-1).fit(df_encoded.loc[df_encoded.longitude.notna()].drop(columns=['latitude','longitude']),\n",
    "                                          df_encoded.loc[df_encoded.longitude.notna(), 'longitude'])\n",
    "x = reg.predict(df_encoded.loc[df_encoded.longitude.isna()].drop(columns=['latitude','longitude']))\n",
    "df.loc[df.longitude.isna(), 'longitude'] = x\n",
    "\n",
    "# Mismo proceso para gps_height\n",
    "df_encoded[['latitude','longitude','gps_height']] = df[['latitude','longitude','gps_height']]\n",
    "\n",
    "reg = LinearRegression(n_jobs=-1).fit(df_encoded.loc[df_encoded.gps_height.notna()].drop(columns=['gps_height']),\n",
    "                                          df_encoded.loc[df_encoded.gps_height.notna(), 'gps_height'])\n",
    "x = reg.predict(df_encoded.loc[df_encoded.gps_height.isna()].drop(columns=['gps_height']))\n",
    "\n",
    "df.loc[df.gps_height.isna(), 'gps_height'] = x\n",
    "\n",
    "# Eliminamos las columnas relacionadas con localización \n",
    "location_columns = [\n",
    "    'region_code', # Alta relación con district_code\n",
    "    'subvillage' # Gran cantidad de valores únicos. Preferimos usar los valores de latitud y longitud\n",
    "]\n",
    "df.drop(columns= location_columns, inplace=True)"
   ]
  },
  {
   "cell_type": "markdown",
   "metadata": {},
   "source": [
    "Volvemos a representar el mapa coloreado por altura y observamos que contamos con información más coherente y limpia."
   ]
  },
  {
   "cell_type": "code",
   "execution_count": 13,
   "metadata": {
    "ExecuteTime": {
     "end_time": "2022-03-16T10:54:27.608033Z",
     "start_time": "2022-03-16T10:54:26.401533Z"
    }
   },
   "outputs": [
    {
     "data": {
      "image/png": "[encoded data removed]",
      "text/plain": [
       "<Figure size 504x360 with 2 Axes>"
      ]
     },
     "metadata": {
      "needs_background": "light"
     },
     "output_type": "display_data"
    }
   ],
   "source": [
    "plot_map(df, df['gps_height'])"
   ]
  },
  {
   "cell_type": "markdown",
   "metadata": {},
   "source": [
    "Imputamos los valores perdidos de las variables booleanas con el valor de la moda y las convertimos a numéricas."
   ]
  },
  {
   "cell_type": "code",
   "execution_count": 33,
   "metadata": {
    "ExecuteTime": {
     "end_time": "2022-03-16T10:59:49.757964Z",
     "start_time": "2022-03-16T10:59:49.730464Z"
    }
   },
   "outputs": [],
   "source": [
    "# Rellenamos con la moda\n",
    "df.permit.fillna(df.permit.mode().values[0], inplace=True)\n",
    "df.public_meeting.fillna(df.permit.mode().values[0], inplace=True)\n",
    "\n",
    "# Convertimos a numéricos\n",
    "df.loc[:, ['permit', 'public_meeting']] = df.loc[:, ['permit', 'public_meeting']].astype('int')"
   ]
  },
  {
   "cell_type": "markdown",
   "metadata": {},
   "source": [
    "Para las variables categóricas nominales se ha decidido rellenar los valores perdidos a 'unknown'. Además es han convertido todos los valores a minúsculas."
   ]
  },
  {
   "cell_type": "code",
   "execution_count": 35,
   "metadata": {
    "ExecuteTime": {
     "end_time": "2022-03-16T11:00:23.767158Z",
     "start_time": "2022-03-16T11:00:23.420663Z"
    }
   },
   "outputs": [
    {
     "name": "stderr",
     "output_type": "stream",
     "text": [
      "D:\\ProgramData\\Anaconda3\\lib\\site-packages\\pandas\\core\\frame.py:4462: SettingWithCopyWarning: \n",
      "A value is trying to be set on a copy of a slice from a DataFrame\n",
      "\n",
      "See the caveats in the documentation: https://pandas.pydata.org/pandas-docs/stable/user_guide/indexing.html#returning-a-view-versus-a-copy\n",
      "  return super().fillna(\n"
     ]
    }
   ],
   "source": [
    "# Rellenamos valores nulos categóricos con 'unknown' y convertimos a lower todos los valores\n",
    "df.select_dtypes(include = 'O').fillna('unknown', inplace=True)\n",
    "for col in df.select_dtypes(include = 'O'):\n",
    "    df.loc[:, col] = df[col].str.lower()"
   ]
  },
  {
   "cell_type": "markdown",
   "metadata": {},
   "source": [
    "Posteriormente, realizamos el encoding de las variables categóricas para pasarlas a numéricas. No se cuenta con información adicional del negocio como para realizar una transformación manual de los valores, por lo que se han realizado experimentos con LabelEncoder, FrequencyEncoder y TargetEncoder. No se ha encontrado apenas diferencias entre ellos, por lo que nos mantenemos con LabelEncoder para la transformación de categóricas a numéricas."
   ]
  },
  {
   "cell_type": "code",
   "execution_count": 51,
   "metadata": {
    "ExecuteTime": {
     "end_time": "2022-03-12T11:40:02.842946Z",
     "start_time": "2022-03-12T11:40:02.252960Z"
    }
   },
   "outputs": [],
   "source": [
    "# Label Encoding #\n",
    "df_encoded = df.copy()\n",
    "for col in df.select_dtypes(include='O').drop(columns=[]):\n",
    "    df_encoded[col] = LabelEncoder().fit_transform(df_encoded[col])\n",
    "    \n",
    "# Freq Encoding #\n",
    "#for col in df.select_dtypes(include='O').drop(columns=[]):\n",
    "#    df_encoded.loc[:,col] = df_encoded[col].map(df_encoded.groupby(col).size()/len(df))*100\n",
    "\n",
    "# Target Encoding #\n",
    "#for col in ['ward']:\n",
    "#    te = ce.TargetEncoder().fit(df_encoded[:len(tag)][col], tag)\n",
    "#    df_encoded[col] = te.transform(df_encoded[col])\n",
    "\n",
    "# Dummy Encoding #\n",
    "df_encoded = pd.get_dummies(df_encoded,drop_first=True)"
   ]
  },
  {
   "cell_type": "markdown",
   "metadata": {},
   "source": [
    "Entrenamos un ensemble de modelos de clasificación para conocer la importancia de las variables de nuestros datos."
   ]
  },
  {
   "cell_type": "code",
   "execution_count": 52,
   "metadata": {
    "ExecuteTime": {
     "end_time": "2022-03-12T11:40:30.417344Z",
     "start_time": "2022-03-12T11:40:05.016861Z"
    }
   },
   "outputs": [
    {
     "data": {
      "image/png": "[encoded data removed]",
      "text/plain": [
       "<Figure size 720x792 with 1 Axes>"
      ]
     },
     "metadata": {
      "needs_background": "light"
     },
     "output_type": "display_data"
    }
   ],
   "source": [
    "# Imprimimos la importancia de las variables para 3 modelos diferentes (Random Fores, XGBoost, CatBoost), \n",
    "# se calcula en base a la media de los 3 modelos. \n",
    "importances = find_features_importance(df_encoded[:len(tag)], tag)"
   ]
  },
  {
   "cell_type": "markdown",
   "metadata": {},
   "source": [
    "Observamos que la variable `quantity` es la más relevante con diferencia. Realizamos un dibujo de barras para observar cómo se relaciona con la variable objetivo.\n",
    "\n",
    "Cabe destacar que los valores de 'enough' y 'dry' son los más decisivos en cuanto a su relación con la variable objetivo (este diagrama se puede realizar para todas las variables (se recomienda que no tenga un alto número de valores únicos), para poder unificar aquellas que sean similares o con poca cantidad de datos, con el objetivo de simplificar los modelos y el entendimiento de estos)."
   ]
  },
  {
   "cell_type": "code",
   "execution_count": 37,
   "metadata": {
    "ExecuteTime": {
     "end_time": "2022-03-16T11:15:30.758290Z",
     "start_time": "2022-03-16T11:15:30.553283Z"
    }
   },
   "outputs": [
    {
     "data": {
      "image/png": "[encoded data removed]",
      "text/plain": [
       "<Figure size 720x360 with 1 Axes>"
      ]
     },
     "metadata": {
      "needs_background": "light"
     },
     "output_type": "display_data"
    }
   ],
   "source": [
    "plot_categoricals(df[:len(tag)], tag, 'quantity')"
   ]
  },
  {
   "cell_type": "code",
   "execution_count": 53,
   "metadata": {
    "ExecuteTime": {
     "end_time": "2022-03-12T11:40:30.649838Z",
     "start_time": "2022-03-12T11:40:30.621840Z"
    }
   },
   "outputs": [],
   "source": [
    "# Eliminamos las variables que apenas aportan información\n",
    "low_importance = [\n",
    "    'public_meeting',\n",
    "    'permit',\n",
    "]\n",
    "\n",
    "df_encoded.drop(columns=low_importance, inplace=True)"
   ]
  },
  {
   "cell_type": "markdown",
   "metadata": {},
   "source": [
    "Una vez que contamos con nuestros datos procesados, procedemos a separar los datos en 3 conjuntos:\n",
    "- Entrenamiento (80%  de los datos de train)\n",
    "- Validación (20% de los datos de train)\n",
    "- Testing (El conjunto de datos a predecir)"
   ]
  },
  {
   "cell_type": "code",
   "execution_count": 54,
   "metadata": {
    "ExecuteTime": {
     "end_time": "2022-03-12T11:40:30.866833Z",
     "start_time": "2022-03-12T11:40:30.837835Z"
    }
   },
   "outputs": [],
   "source": [
    "# Separamos en train y test, y a su vez los datos de train en train y validacion (80-20)\n",
    "train = df_encoded[:len(tag)]\n",
    "test = df_encoded[len(tag):]\n",
    "\n",
    "X_train, X_val, y_train, y_val = train_test_split(train, tag, test_size=0.2, random_state=42)"
   ]
  },
  {
   "cell_type": "markdown",
   "metadata": {},
   "source": [
    "# Train"
   ]
  },
  {
   "cell_type": "markdown",
   "metadata": {},
   "source": [
    "En la fase de entrenamiento se han realizado múltiples pruebas, pero enseñamos los modelos que mejores resultados han ofrecido (otros modelos probados obtenían resultados de 0.5-0.6 en accuracy, por lo que los descartamos).\n",
    "\n",
    "El primer paso es realizar un KFold para la evaluación de los modelos, de esta forma aseguramos que el entrenamiento de los modelos no depende del azar."
   ]
  },
  {
   "cell_type": "code",
   "execution_count": 11,
   "metadata": {
    "ExecuteTime": {
     "end_time": "2022-03-05T11:01:06.770092Z",
     "start_time": "2022-03-05T11:01:06.766092Z"
    }
   },
   "outputs": [],
   "source": [
    "skf = StratifiedKFold(n_splits=5, shuffle=True, random_state=42)"
   ]
  },
  {
   "cell_type": "markdown",
   "metadata": {},
   "source": [
    "A continuación entrenamos 4 modelos diferentes de clasificación: Random Fores, XGBoost, CatBoost y Bagging. Todos ellos pasarán por un GridSearch o RandomSearch para la optimización de hiperparámetros."
   ]
  },
  {
   "cell_type": "code",
   "execution_count": 18,
   "metadata": {
    "ExecuteTime": {
     "end_time": "2022-03-04T19:48:17.927690Z",
     "start_time": "2022-03-04T18:39:53.675190Z"
    },
    "scrolled": true
   },
   "outputs": [
    {
     "name": "stdout",
     "output_type": "stream",
     "text": [
      "Fitting 5 folds for each of 100 candidates, totalling 500 fits\n",
      "Best Score: 0.810563973063973\n",
      "RandomForestClassifier(max_depth=31, min_samples_split=6, n_estimators=1030,\n",
      "                       n_jobs=-1, random_state=42, warm_start=True)\n",
      "0.9488005050505051\n",
      "0.8127946127946128\n"
     ]
    }
   ],
   "source": [
    "# RandomForest\n",
    "param_grid = { 'n_estimators': range(100,1100,100),\n",
    "             'max_depth' : range(1,50,5),      \n",
    "             'min_samples_split':[1, 5, 10, 20, 30]}\n",
    "\n",
    "param_grid = { 'n_estimators': range(900,1100,10),\n",
    "             'max_depth' : range(30,40,1),      \n",
    "             'min_samples_split':[3, 4, 5, 6, 7]}\n",
    "\n",
    "rf = RandomForestClassifier(random_state=42, warm_start = True, n_jobs=-1)\n",
    "\n",
    "grid_search_rf = RandomizedSearchCV(estimator = rf, param_distributions = param_grid, cv = skf, n_iter = 100,\n",
    "                               verbose = 2, scoring = 'accuracy', n_jobs=-1)\n",
    "grid_search_rf.fit(X_train, y_train)\n",
    "\n",
    "print('Best Score:', grid_search_rf.best_score_)\n",
    "\n",
    "rf = grid_search_rf.best_estimator_.fit(X_train, y_train)\n",
    "print(rf)\n",
    "print(accuracy_score(y_train, rf.predict(X_train)))\n",
    "print(accuracy_score(y_val, rf.predict(X_val)))"
   ]
  },
  {
   "cell_type": "code",
   "execution_count": null,
   "metadata": {
    "ExecuteTime": {
     "end_time": "2022-03-04T20:08:49.387189Z",
     "start_time": "2022-03-04T19:48:18.178189Z"
    }
   },
   "outputs": [],
   "source": [
    "# XGBoost\n",
    "param_grid = { 'n_estimators': range(100,1100,100),\n",
    "             'max_depth' : range(10,20,1)}\n",
    "\n",
    "param_grid = { 'n_estimators': range(100,1100,100),\n",
    "             'max_depth' : range(10,15,1)}\n",
    "\n",
    "xgb = XGBClassifier(random_state=42, n_jobs=-1, verbosity = 0, tree_method = \"hist\")\n",
    "\n",
    "grid_search_xgb = RandomizedSearchCV(estimator = xgb, param_distributions = param_grid, cv = skf, n_iter = 50,\n",
    "                               verbose = 2, scoring = 'accuracy', n_jobs=-1)\n",
    "grid_search_xgb.fit(X_train, y_train,  eval_metric = 'mlogloss',)\n",
    "print('Best Score:', grid_search_xgb.best_score_)\n",
    "\n",
    "xgb = grid_search_xgb.best_estimator_.fit(X_train, y_train)\n",
    "print(xgb)\n",
    "print(accuracy_score(y_train, xgb.predict(X_train)))\n",
    "print(accuracy_score(y_val, xgb.predict(X_val)))"
   ]
  },
  {
   "cell_type": "code",
   "execution_count": null,
   "metadata": {
    "ExecuteTime": {
     "end_time": "2022-03-04T20:08:49.394191Z",
     "start_time": "2022-03-04T20:08:49.394191Z"
    }
   },
   "outputs": [],
   "source": [
    "# CatBoost\n",
    "param_grid = { 'max_depth': [7,8,10],\n",
    "              'iterations': [1000, 750, 500],\n",
    "              'rsm' :[0.5, 0.3, 0.2]}\n",
    "\n",
    "cat = CatBoostClassifier(random_state=42, silent=True, thread_count=-1)\n",
    "\n",
    "grid_search_cat = RandomizedSearchCV(estimator = cat, param_distributions = param_grid, cv = skf, n_iter = 25, \n",
    "                               verbose = 2,  scoring = 'accuracy', n_jobs=-1)\n",
    "\n",
    "grid_search_cat.fit(X_train, y_train)\n",
    "print('Best Score:', grid_search_cat.best_score_)\n",
    "\n",
    "cat = grid_search_cat.best_estimator_.fit(X_train, y_train)\n",
    "print(cat)\n",
    "print(accuracy_score(y_train, cat.predict(X_train)))\n",
    "print(accuracy_score(y_val, cat.predict(X_val)))"
   ]
  },
  {
   "cell_type": "code",
   "execution_count": null,
   "metadata": {
    "ExecuteTime": {
     "end_time": "2022-03-04T20:08:49.398691Z",
     "start_time": "2022-03-04T20:08:49.398691Z"
    }
   },
   "outputs": [],
   "source": [
    "# Bagging\n",
    "param_grid = { 'n_estimators': range(100,1100,100),\n",
    "              'max_features': np.linspace(0,0.9,20)}\n",
    "\n",
    "param_grid = { 'n_estimators': range(500,700,25),\n",
    "              'max_features': np.linspace(0,0.9,20)}\n",
    "\n",
    "bag = BaggingClassifier(random_state=42, n_jobs=-1)\n",
    "\n",
    "grid_search_bag = RandomizedSearchCV(estimator = bag, param_distributions = param_grid, cv = skf, n_iter = 50,\n",
    "                               verbose = 2, scoring = 'accuracy', n_jobs=-1)\n",
    "grid_search_bag.fit(X_train, y_train )\n",
    " \n",
    "print('Best Score:', grid_search_bag.best_score_)\n",
    "\n",
    "bag = grid_search_bag.best_estimator_.fit(X_train, y_train)\n",
    "print(bag)\n",
    "print(accuracy_score(y_train, bag.predict(X_train)))\n",
    "print(accuracy_score(y_val, bag.predict(X_val)))"
   ]
  },
  {
   "cell_type": "markdown",
   "metadata": {},
   "source": [
    "# Voting"
   ]
  },
  {
   "cell_type": "markdown",
   "metadata": {},
   "source": [
    "Finalmente, se ha utilizado la herramienta de VotingClassifier para realizar una votación de los resultados de cada modelo. Se ha usado la técnica 'soft', que hará una suma de las probabilidades de cada predicción y escogerá el valor con mayor probabilidad.\n",
    "\n",
    "Se han entrenado 2 Voting Classifiers diferentes cambiando los pesos de la votación en base a los resultados de los modelos."
   ]
  },
  {
   "cell_type": "code",
   "execution_count": null,
   "metadata": {
    "ExecuteTime": {
     "end_time": "2022-03-04T20:08:49.404190Z",
     "start_time": "2022-03-04T20:08:49.404190Z"
    }
   },
   "outputs": [],
   "source": [
    "vc1 = VotingClassifier([('RandomForest', grid_search_rf.best_estimator_), \n",
    "                        ('XGBoost', grid_search_xgb.best_estimator_),\n",
    "                        ('CAT', grid_search_cat.best_estimator_), \n",
    "                        ('Bagging', grid_search_bag.best_estimator_)], voting = 'soft')                  \n",
    "vc1.fit(X_train , y_train)\n",
    "\n",
    "preds_train = vc1.predict(X_train)\n",
    "print(\"Accuracy score train: {}\".format(accuracy_score(y_train , preds_train)))\n",
    "preds_val = vc1.predict(X_val)\n",
    "print(\"Accuracy score test: {}\".format(accuracy_score(y_val, preds_val)))"
   ]
  },
  {
   "cell_type": "code",
   "execution_count": 470,
   "metadata": {
    "ExecuteTime": {
     "end_time": "2022-02-28T16:38:48.000164Z",
     "start_time": "2022-02-28T16:36:14.403731Z"
    },
    "scrolled": true
   },
   "outputs": [
    {
     "name": "stdout",
     "output_type": "stream",
     "text": [
      "Accuracy score train: 0.9438552188552188\n",
      "Accuracy score test: 0.8152356902356902\n"
     ]
    }
   ],
   "source": [
    "vc2 = VotingClassifier([('RandomForest', grid_search_rf.best_estimator_), \n",
    "                        ('XGBoost', grid_search_xgb.best_estimator_),\n",
    "                        ('CAT', grid_search_cat.best_estimator_), \n",
    "                        ('Bagging', grid_search_bag.best_estimator_)], voting = 'soft', weights=[0.9, 1, 0.8, 0.75])                  \n",
    "vc2.fit(X_train , y_train)\n",
    "\n",
    "preds_train = vc2.predict(X_train)\n",
    "print(\"Accuracy score train: {}\".format(accuracy_score(y_train , preds_train)))\n",
    "preds_val = vc2.predict(X_val)\n",
    "print(\"Accuracy score test: {}\".format(accuracy_score(y_val, preds_val)))"
   ]
  },
  {
   "cell_type": "markdown",
   "metadata": {},
   "source": [
    "Se observa que no hay apenas diferencia entre estos, con lo que decidimos mantenernos con el Voting Classifier inicial (sin pesos)."
   ]
  },
  {
   "cell_type": "code",
   "execution_count": null,
   "metadata": {
    "ExecuteTime": {
     "end_time": "2022-02-28T16:42:09.786578Z",
     "start_time": "2022-02-28T16:38:56.623121Z"
    },
    "scrolled": true
   },
   "outputs": [],
   "source": [
    "vc1.fit(train, tag)\n",
    "vc2.fit(train, tag)\n",
    "\n",
    "print(accuracy_score(tag, vc1.predict(train)))\n",
    "print(accuracy_score(tag, vc2.predict(train)))"
   ]
  },
  {
   "cell_type": "markdown",
   "metadata": {},
   "source": [
    "# Testing"
   ]
  },
  {
   "cell_type": "markdown",
   "metadata": {},
   "source": [
    "Una vez tengamos el modelo o ensemble de modelos listo, realizamos las predicciones del conjunto de test, las convertimos al formato deseado para la competición y guardamos el archivo como csv."
   ]
  },
  {
   "cell_type": "code",
   "execution_count": 127,
   "metadata": {
    "ExecuteTime": {
     "end_time": "2022-03-05T11:43:01.138278Z",
     "start_time": "2022-03-05T11:43:00.253776Z"
    }
   },
   "outputs": [],
   "source": [
    "preds_test = vc1.predict(test)"
   ]
  },
  {
   "cell_type": "code",
   "execution_count": 128,
   "metadata": {
    "ExecuteTime": {
     "end_time": "2022-03-05T11:43:02.064608Z",
     "start_time": "2022-03-05T11:43:02.030356Z"
    }
   },
   "outputs": [
    {
     "data": {
      "text/html": [
       "<div>\n",
       "<style scoped>\n",
       "    .dataframe tbody tr th:only-of-type {\n",
       "        vertical-align: middle;\n",
       "    }\n",
       "\n",
       "    .dataframe tbody tr th {\n",
       "        vertical-align: top;\n",
       "    }\n",
       "\n",
       "    .dataframe thead th {\n",
       "        text-align: right;\n",
       "    }\n",
       "</style>\n",
       "<table border=\"1\" class=\"dataframe\">\n",
       "  <thead>\n",
       "    <tr style=\"text-align: right;\">\n",
       "      <th></th>\n",
       "      <th>id</th>\n",
       "      <th>status_group</th>\n",
       "    </tr>\n",
       "  </thead>\n",
       "  <tbody>\n",
       "    <tr>\n",
       "      <th>0</th>\n",
       "      <td>50785</td>\n",
       "      <td>non functional</td>\n",
       "    </tr>\n",
       "    <tr>\n",
       "      <th>1</th>\n",
       "      <td>51630</td>\n",
       "      <td>functional</td>\n",
       "    </tr>\n",
       "    <tr>\n",
       "      <th>2</th>\n",
       "      <td>17168</td>\n",
       "      <td>functional</td>\n",
       "    </tr>\n",
       "    <tr>\n",
       "      <th>3</th>\n",
       "      <td>45559</td>\n",
       "      <td>non functional</td>\n",
       "    </tr>\n",
       "    <tr>\n",
       "      <th>4</th>\n",
       "      <td>49871</td>\n",
       "      <td>functional</td>\n",
       "    </tr>\n",
       "    <tr>\n",
       "      <th>...</th>\n",
       "      <td>...</td>\n",
       "      <td>...</td>\n",
       "    </tr>\n",
       "    <tr>\n",
       "      <th>14845</th>\n",
       "      <td>39307</td>\n",
       "      <td>non functional</td>\n",
       "    </tr>\n",
       "    <tr>\n",
       "      <th>14846</th>\n",
       "      <td>18990</td>\n",
       "      <td>functional</td>\n",
       "    </tr>\n",
       "    <tr>\n",
       "      <th>14847</th>\n",
       "      <td>28749</td>\n",
       "      <td>functional</td>\n",
       "    </tr>\n",
       "    <tr>\n",
       "      <th>14848</th>\n",
       "      <td>33492</td>\n",
       "      <td>functional</td>\n",
       "    </tr>\n",
       "    <tr>\n",
       "      <th>14849</th>\n",
       "      <td>68707</td>\n",
       "      <td>non functional</td>\n",
       "    </tr>\n",
       "  </tbody>\n",
       "</table>\n",
       "<p>14850 rows × 2 columns</p>\n",
       "</div>"
      ],
      "text/plain": [
       "          id    status_group\n",
       "0      50785  non functional\n",
       "1      51630      functional\n",
       "2      17168      functional\n",
       "3      45559  non functional\n",
       "4      49871      functional\n",
       "...      ...             ...\n",
       "14845  39307  non functional\n",
       "14846  18990      functional\n",
       "14847  28749      functional\n",
       "14848  33492      functional\n",
       "14849  68707  non functional\n",
       "\n",
       "[14850 rows x 2 columns]"
      ]
     },
     "execution_count": 128,
     "metadata": {},
     "output_type": "execute_result"
    }
   ],
   "source": [
    "convert = map(lambda x: 'functional' if x == 0 else ('functional needs repair' if x == 1 else 'non functional'), preds_test)\n",
    "result = pd.DataFrame({'id':test_ids,'status_group':convert})\n",
    "result"
   ]
  },
  {
   "cell_type": "code",
   "execution_count": 129,
   "metadata": {
    "ExecuteTime": {
     "end_time": "2022-03-05T11:43:14.611519Z",
     "start_time": "2022-03-05T11:43:14.531117Z"
    }
   },
   "outputs": [],
   "source": [
    "result.to_csv('pump_it_up_predictions.csv', index=False)"
   ]
  },
  {
   "cell_type": "markdown",
   "metadata": {},
   "source": [
    "# Auto ML"
   ]
  },
  {
   "cell_type": "markdown",
   "metadata": {},
   "source": [
    "Como exploración adicional, se ha realizado un entrenamiento de modelos de manera automática a partir de los datos ya procesados, haciendo uso de la librería H2O"
   ]
  },
  {
   "cell_type": "code",
   "execution_count": null,
   "metadata": {},
   "outputs": [],
   "source": [
    "import h2o\n",
    "from h2o.automl import H2OAutoML"
   ]
  },
  {
   "cell_type": "code",
   "execution_count": null,
   "metadata": {},
   "outputs": [],
   "source": [
    "# Transformamos los datos al formato requerido por la librería H2O\n",
    "X_train['tag'] = y_train\n",
    "X_train = h2o.H2OFrame(X_train)\n",
    "X_train['tag'] = X_train['tag'].asfactor()\n",
    "\n",
    "X_val['tag'] = y_val\n",
    "X_val = h2o.H2OFrame(X_val)\n",
    "X_val['tag'] = X_val['tag'].asfactor()\n",
    "\n",
    "x_columns = X_train.columns\n",
    "x_columns.remove('tag')\n",
    "\n",
    "train['tag'] = tag\n",
    "train = h2o.H2OFrame(train)\n",
    "train['tag'] = train['tag'].asfactor()\n",
    "\n",
    "test = h2o.H2OFrame(test)"
   ]
  },
  {
   "cell_type": "code",
   "execution_count": 11,
   "metadata": {
    "ExecuteTime": {
     "end_time": "2022-03-02T12:15:59.386044Z",
     "start_time": "2022-03-02T12:15:34.334298Z"
    }
   },
   "outputs": [
    {
     "name": "stdout",
     "output_type": "stream",
     "text": [
      "Checking whether there is an H2O instance running at http://localhost:54321 ..... not found.\n",
      "Attempting to start a local H2O server...\n",
      "; Java HotSpot(TM) 64-Bit Server VM (build 25.291-b10, mixed mode)\n",
      "  Starting server from D:\\ProgramData\\Anaconda3\\envs\\python38\\Lib\\site-packages\\h2o\\backend\\bin\\h2o.jar\n",
      "  Ice root: C:\\Users\\Luis\\AppData\\Local\\Temp\\tmpchsym0w5\n",
      "  JVM stdout: C:\\Users\\Luis\\AppData\\Local\\Temp\\tmpchsym0w5\\h2o_Luis_started_from_python.out\n",
      "  JVM stderr: C:\\Users\\Luis\\AppData\\Local\\Temp\\tmpchsym0w5\\h2o_Luis_started_from_python.err\n",
      "  Server is running at http://127.0.0.1:54321\n",
      "Connecting to H2O server at http://127.0.0.1:54321 ... successful.\n"
     ]
    },
    {
     "data": {
      "text/html": [
       "<div style=\"overflow:auto\"><table style=\"width:50%\"><tr><td>H2O_cluster_uptime:</td>\n",
       "<td>02 secs</td></tr>\n",
       "<tr><td>H2O_cluster_timezone:</td>\n",
       "<td>Europe/Paris</td></tr>\n",
       "<tr><td>H2O_data_parsing_timezone:</td>\n",
       "<td>UTC</td></tr>\n",
       "<tr><td>H2O_cluster_version:</td>\n",
       "<td>3.36.0.3</td></tr>\n",
       "<tr><td>H2O_cluster_version_age:</td>\n",
       "<td>13 days </td></tr>\n",
       "<tr><td>H2O_cluster_name:</td>\n",
       "<td>H2O_from_python_Luis_1l3usa</td></tr>\n",
       "<tr><td>H2O_cluster_total_nodes:</td>\n",
       "<td>1</td></tr>\n",
       "<tr><td>H2O_cluster_free_memory:</td>\n",
       "<td>3.542 Gb</td></tr>\n",
       "<tr><td>H2O_cluster_total_cores:</td>\n",
       "<td>12</td></tr>\n",
       "<tr><td>H2O_cluster_allowed_cores:</td>\n",
       "<td>12</td></tr>\n",
       "<tr><td>H2O_cluster_status:</td>\n",
       "<td>locked, healthy</td></tr>\n",
       "<tr><td>H2O_connection_url:</td>\n",
       "<td>http://127.0.0.1:54321</td></tr>\n",
       "<tr><td>H2O_connection_proxy:</td>\n",
       "<td>{\"http\": null, \"https\": null}</td></tr>\n",
       "<tr><td>H2O_internal_security:</td>\n",
       "<td>False</td></tr>\n",
       "<tr><td>Python_version:</td>\n",
       "<td>3.8.12 final</td></tr></table></div>"
      ],
      "text/plain": [
       "--------------------------  -----------------------------\n",
       "H2O_cluster_uptime:         02 secs\n",
       "H2O_cluster_timezone:       Europe/Paris\n",
       "H2O_data_parsing_timezone:  UTC\n",
       "H2O_cluster_version:        3.36.0.3\n",
       "H2O_cluster_version_age:    13 days\n",
       "H2O_cluster_name:           H2O_from_python_Luis_1l3usa\n",
       "H2O_cluster_total_nodes:    1\n",
       "H2O_cluster_free_memory:    3.542 Gb\n",
       "H2O_cluster_total_cores:    12\n",
       "H2O_cluster_allowed_cores:  12\n",
       "H2O_cluster_status:         locked, healthy\n",
       "H2O_connection_url:         http://127.0.0.1:54321\n",
       "H2O_connection_proxy:       {\"http\": null, \"https\": null}\n",
       "H2O_internal_security:      False\n",
       "Python_version:             3.8.12 final\n",
       "--------------------------  -----------------------------"
      ]
     },
     "metadata": {},
     "output_type": "display_data"
    }
   ],
   "source": [
    "h2o.init(nthreads = -1)"
   ]
  },
  {
   "cell_type": "markdown",
   "metadata": {},
   "source": [
    "Entrenamos 20 modelos autoseleccionados por la librería y observamos cuál es el que mejor resultados ha ofrecido."
   ]
  },
  {
   "cell_type": "code",
   "execution_count": null,
   "metadata": {},
   "outputs": [],
   "source": [
    "# Run AutoML for 20 base models\n",
    "aml = H2OAutoML(max_models=25, seed=42)\n",
    "aml.train(x=train.columns[:-1], y='tag', training_frame=train)"
   ]
  },
  {
   "cell_type": "code",
   "execution_count": 22,
   "metadata": {
    "ExecuteTime": {
     "end_time": "2022-03-02T13:31:34.337093Z",
     "start_time": "2022-03-02T13:31:34.308596Z"
    },
    "scrolled": false
   },
   "outputs": [
    {
     "data": {
      "text/html": [
       "<table>\n",
       "<thead>\n",
       "<tr><th>model_id                                               </th><th style=\"text-align: right;\">  mean_per_class_error</th><th style=\"text-align: right;\">  logloss</th><th style=\"text-align: right;\">    rmse</th><th style=\"text-align: right;\">     mse</th></tr>\n",
       "</thead>\n",
       "<tbody>\n",
       "<tr><td>GBM_grid_1_AutoML_1_20220302_131751_model_3            </td><td style=\"text-align: right;\">              0.325351</td><td style=\"text-align: right;\"> 0.497052</td><td style=\"text-align: right;\">0.38628 </td><td style=\"text-align: right;\">0.149212</td></tr>\n",
       "<tr><td>StackedEnsemble_AllModels_4_AutoML_1_20220302_131751   </td><td style=\"text-align: right;\">              0.334295</td><td style=\"text-align: right;\"> 0.465873</td><td style=\"text-align: right;\">0.386363</td><td style=\"text-align: right;\">0.149276</td></tr>\n",
       "<tr><td>StackedEnsemble_AllModels_6_AutoML_1_20220302_131751   </td><td style=\"text-align: right;\">              0.335073</td><td style=\"text-align: right;\"> 0.465938</td><td style=\"text-align: right;\">0.386146</td><td style=\"text-align: right;\">0.149109</td></tr>\n",
       "<tr><td>StackedEnsemble_AllModels_3_AutoML_1_20220302_131751   </td><td style=\"text-align: right;\">              0.335096</td><td style=\"text-align: right;\"> 0.465861</td><td style=\"text-align: right;\">0.386406</td><td style=\"text-align: right;\">0.14931 </td></tr>\n",
       "<tr><td>StackedEnsemble_BestOfFamily_5_AutoML_1_20220302_131751</td><td style=\"text-align: right;\">              0.335383</td><td style=\"text-align: right;\"> 0.470212</td><td style=\"text-align: right;\">0.387936</td><td style=\"text-align: right;\">0.150495</td></tr>\n",
       "<tr><td>GBM_4_AutoML_1_20220302_131751                         </td><td style=\"text-align: right;\">              0.335979</td><td style=\"text-align: right;\"> 0.477602</td><td style=\"text-align: right;\">0.388093</td><td style=\"text-align: right;\">0.150616</td></tr>\n",
       "<tr><td>StackedEnsemble_BestOfFamily_4_AutoML_1_20220302_131751</td><td style=\"text-align: right;\">              0.336318</td><td style=\"text-align: right;\"> 0.470314</td><td style=\"text-align: right;\">0.387995</td><td style=\"text-align: right;\">0.15054 </td></tr>\n",
       "<tr><td>DRF_1_AutoML_1_20220302_131751                         </td><td style=\"text-align: right;\">              0.337557</td><td style=\"text-align: right;\"> 0.517467</td><td style=\"text-align: right;\">0.39086 </td><td style=\"text-align: right;\">0.152771</td></tr>\n",
       "<tr><td>GBM_1_AutoML_1_20220302_131751                         </td><td style=\"text-align: right;\">              0.338066</td><td style=\"text-align: right;\"> 0.480477</td><td style=\"text-align: right;\">0.390309</td><td style=\"text-align: right;\">0.152341</td></tr>\n",
       "<tr><td>StackedEnsemble_BestOfFamily_7_AutoML_1_20220302_131751</td><td style=\"text-align: right;\">              0.339002</td><td style=\"text-align: right;\"> 0.470601</td><td style=\"text-align: right;\">0.388296</td><td style=\"text-align: right;\">0.150774</td></tr>\n",
       "<tr><td>GBM_grid_1_AutoML_1_20220302_131751_model_4            </td><td style=\"text-align: right;\">              0.339271</td><td style=\"text-align: right;\"> 0.476903</td><td style=\"text-align: right;\">0.390239</td><td style=\"text-align: right;\">0.152286</td></tr>\n",
       "<tr><td>StackedEnsemble_AllModels_5_AutoML_1_20220302_131751   </td><td style=\"text-align: right;\">              0.339738</td><td style=\"text-align: right;\"> 0.464625</td><td style=\"text-align: right;\">0.384792</td><td style=\"text-align: right;\">0.148065</td></tr>\n",
       "<tr><td>StackedEnsemble_AllModels_1_AutoML_1_20220302_131751   </td><td style=\"text-align: right;\">              0.340679</td><td style=\"text-align: right;\"> 0.472143</td><td style=\"text-align: right;\">0.389208</td><td style=\"text-align: right;\">0.151483</td></tr>\n",
       "<tr><td>StackedEnsemble_AllModels_2_AutoML_1_20220302_131751   </td><td style=\"text-align: right;\">              0.340736</td><td style=\"text-align: right;\"> 0.470958</td><td style=\"text-align: right;\">0.388955</td><td style=\"text-align: right;\">0.151286</td></tr>\n",
       "<tr><td>StackedEnsemble_BestOfFamily_3_AutoML_1_20220302_131751</td><td style=\"text-align: right;\">              0.341112</td><td style=\"text-align: right;\"> 0.47279 </td><td style=\"text-align: right;\">0.389473</td><td style=\"text-align: right;\">0.151689</td></tr>\n",
       "<tr><td>StackedEnsemble_BestOfFamily_1_AutoML_1_20220302_131751</td><td style=\"text-align: right;\">              0.341682</td><td style=\"text-align: right;\"> 0.480824</td><td style=\"text-align: right;\">0.393314</td><td style=\"text-align: right;\">0.154696</td></tr>\n",
       "<tr><td>StackedEnsemble_BestOfFamily_2_AutoML_1_20220302_131751</td><td style=\"text-align: right;\">              0.342085</td><td style=\"text-align: right;\"> 0.47421 </td><td style=\"text-align: right;\">0.389788</td><td style=\"text-align: right;\">0.151935</td></tr>\n",
       "<tr><td>StackedEnsemble_BestOfFamily_6_AutoML_1_20220302_131751</td><td style=\"text-align: right;\">              0.342815</td><td style=\"text-align: right;\"> 0.468583</td><td style=\"text-align: right;\">0.386577</td><td style=\"text-align: right;\">0.149442</td></tr>\n",
       "<tr><td>GBM_grid_1_AutoML_1_20220302_131751_model_5            </td><td style=\"text-align: right;\">              0.342994</td><td style=\"text-align: right;\"> 0.480512</td><td style=\"text-align: right;\">0.390784</td><td style=\"text-align: right;\">0.152712</td></tr>\n",
       "<tr><td>GBM_3_AutoML_1_20220302_131751                         </td><td style=\"text-align: right;\">              0.350244</td><td style=\"text-align: right;\"> 0.485216</td><td style=\"text-align: right;\">0.394121</td><td style=\"text-align: right;\">0.155332</td></tr>\n",
       "<tr><td>XRT_1_AutoML_1_20220302_131751                         </td><td style=\"text-align: right;\">              0.351194</td><td style=\"text-align: right;\"> 0.515816</td><td style=\"text-align: right;\">0.402857</td><td style=\"text-align: right;\">0.162293</td></tr>\n",
       "<tr><td>GBM_2_AutoML_1_20220302_131751                         </td><td style=\"text-align: right;\">              0.354247</td><td style=\"text-align: right;\"> 0.492487</td><td style=\"text-align: right;\">0.398076</td><td style=\"text-align: right;\">0.158465</td></tr>\n",
       "<tr><td>GBM_grid_1_AutoML_1_20220302_131751_model_2            </td><td style=\"text-align: right;\">              0.356145</td><td style=\"text-align: right;\"> 0.494859</td><td style=\"text-align: right;\">0.3992  </td><td style=\"text-align: right;\">0.15936 </td></tr>\n",
       "<tr><td>GBM_5_AutoML_1_20220302_131751                         </td><td style=\"text-align: right;\">              0.364748</td><td style=\"text-align: right;\"> 0.504862</td><td style=\"text-align: right;\">0.403913</td><td style=\"text-align: right;\">0.163146</td></tr>\n",
       "<tr><td>GBM_grid_1_AutoML_1_20220302_131751_model_7            </td><td style=\"text-align: right;\">              0.374927</td><td style=\"text-align: right;\"> 0.50903 </td><td style=\"text-align: right;\">0.406895</td><td style=\"text-align: right;\">0.165564</td></tr>\n",
       "<tr><td>GBM_grid_1_AutoML_1_20220302_131751_model_6            </td><td style=\"text-align: right;\">              0.385727</td><td style=\"text-align: right;\"> 0.522887</td><td style=\"text-align: right;\">0.413743</td><td style=\"text-align: right;\">0.171183</td></tr>\n",
       "<tr><td>GBM_grid_1_AutoML_1_20220302_131751_model_1            </td><td style=\"text-align: right;\">              0.394191</td><td style=\"text-align: right;\"> 0.539414</td><td style=\"text-align: right;\">0.420345</td><td style=\"text-align: right;\">0.17669 </td></tr>\n",
       "<tr><td>DeepLearning_grid_2_AutoML_1_20220302_131751_model_2   </td><td style=\"text-align: right;\">              0.42122 </td><td style=\"text-align: right;\"> 0.59429 </td><td style=\"text-align: right;\">0.436584</td><td style=\"text-align: right;\">0.190605</td></tr>\n",
       "<tr><td>DeepLearning_grid_3_AutoML_1_20220302_131751_model_1   </td><td style=\"text-align: right;\">              0.422511</td><td style=\"text-align: right;\"> 0.602856</td><td style=\"text-align: right;\">0.444608</td><td style=\"text-align: right;\">0.197676</td></tr>\n",
       "<tr><td>DeepLearning_grid_2_AutoML_1_20220302_131751_model_3   </td><td style=\"text-align: right;\">              0.42268 </td><td style=\"text-align: right;\"> 0.67592 </td><td style=\"text-align: right;\">0.46217 </td><td style=\"text-align: right;\">0.213601</td></tr>\n",
       "<tr><td>DeepLearning_grid_3_AutoML_1_20220302_131751_model_2   </td><td style=\"text-align: right;\">              0.42591 </td><td style=\"text-align: right;\"> 0.600016</td><td style=\"text-align: right;\">0.444601</td><td style=\"text-align: right;\">0.19767 </td></tr>\n",
       "<tr><td>DeepLearning_grid_3_AutoML_1_20220302_131751_model_3   </td><td style=\"text-align: right;\">              0.427094</td><td style=\"text-align: right;\"> 0.691177</td><td style=\"text-align: right;\">0.462467</td><td style=\"text-align: right;\">0.213876</td></tr>\n",
       "<tr><td>DeepLearning_grid_2_AutoML_1_20220302_131751_model_1   </td><td style=\"text-align: right;\">              0.427589</td><td style=\"text-align: right;\"> 0.626958</td><td style=\"text-align: right;\">0.455614</td><td style=\"text-align: right;\">0.207584</td></tr>\n",
       "<tr><td>DeepLearning_grid_1_AutoML_1_20220302_131751_model_2   </td><td style=\"text-align: right;\">              0.437811</td><td style=\"text-align: right;\"> 0.624329</td><td style=\"text-align: right;\">0.441702</td><td style=\"text-align: right;\">0.195101</td></tr>\n",
       "<tr><td>DeepLearning_grid_1_AutoML_1_20220302_131751_model_1   </td><td style=\"text-align: right;\">              0.443691</td><td style=\"text-align: right;\"> 0.635207</td><td style=\"text-align: right;\">0.458711</td><td style=\"text-align: right;\">0.210416</td></tr>\n",
       "<tr><td>DeepLearning_grid_1_AutoML_1_20220302_131751_model_3   </td><td style=\"text-align: right;\">              0.450076</td><td style=\"text-align: right;\"> 0.69585 </td><td style=\"text-align: right;\">0.456838</td><td style=\"text-align: right;\">0.208701</td></tr>\n",
       "<tr><td>DeepLearning_1_AutoML_1_20220302_131751                </td><td style=\"text-align: right;\">              0.485265</td><td style=\"text-align: right;\"> 0.65533 </td><td style=\"text-align: right;\">0.46496 </td><td style=\"text-align: right;\">0.216188</td></tr>\n",
       "<tr><td>GLM_1_AutoML_1_20220302_131751                         </td><td style=\"text-align: right;\">              0.552086</td><td style=\"text-align: right;\"> 0.782081</td><td style=\"text-align: right;\">0.518937</td><td style=\"text-align: right;\">0.269296</td></tr>\n",
       "</tbody>\n",
       "</table>"
      ]
     },
     "metadata": {},
     "output_type": "display_data"
    },
    {
     "data": {
      "text/plain": []
     },
     "execution_count": 22,
     "metadata": {},
     "output_type": "execute_result"
    }
   ],
   "source": [
    "# View the AutoML Leaderboard\n",
    "lb = aml.leaderboard\n",
    "lb.head(rows=lb.nrows)"
   ]
  },
  {
   "cell_type": "markdown",
   "metadata": {},
   "source": [
    "Reentrenamos el mejor modelo con todos los datos, generamos las predicciones del conjunto de test y aplicamos el formato requerido para la competición. "
   ]
  },
  {
   "cell_type": "code",
   "execution_count": 23,
   "metadata": {
    "ExecuteTime": {
     "end_time": "2022-03-02T13:40:24.636237Z",
     "start_time": "2022-03-02T13:40:19.551629Z"
    }
   },
   "outputs": [
    {
     "name": "stdout",
     "output_type": "stream",
     "text": [
      "gbm prediction progress: |███████████████████████████████████████████████████████| (done) 100%\n"
     ]
    },
    {
     "data": {
      "text/plain": [
       "0.9661952861952862"
      ]
     },
     "execution_count": 23,
     "metadata": {},
     "output_type": "execute_result"
    }
   ],
   "source": [
    "preds = aml.leader.predict(train)\n",
    "accuracy_score(tag, preds.as_data_frame()['predict'])"
   ]
  },
  {
   "cell_type": "code",
   "execution_count": 24,
   "metadata": {
    "ExecuteTime": {
     "end_time": "2022-03-02T13:40:39.471497Z",
     "start_time": "2022-03-02T13:40:37.447256Z"
    }
   },
   "outputs": [
    {
     "name": "stdout",
     "output_type": "stream",
     "text": [
      "gbm prediction progress: |███████████████████████████████████████████████████████| (done) 100%\n"
     ]
    }
   ],
   "source": [
    "preds_test = aml.leader.predict(test).as_data_frame()['predict']"
   ]
  },
  {
   "cell_type": "code",
   "execution_count": null,
   "metadata": {},
   "outputs": [],
   "source": [
    "convert = map(lambda x: 'functional' if x == 0 else ('functional needs repair' if x == 1 else 'non functional'), preds_test)\n",
    "result = pd.DataFrame({'id':test_ids,'status_group':convert})\n",
    "\n",
    "result.to_csv('pump_it_up_predictions.csv', index=False)"
   ]
  },
  {
   "cell_type": "markdown",
   "metadata": {},
   "source": [
    "Cabe destacar que los resultados obtenidos mediante H2O han sido levemente inferiores a los resultados mostrados en el apartado anterior. Aún así, es una forma rápida y sencilla de entrenar modelos y puede ser útil para cuando no se disponga de mucho tiempo o recursos."
   ]
  }
 ],
 "metadata": {
  "kernelspec": {
   "display_name": "Python 3",
   "language": "python",
   "name": "python3"
  },
  "language_info": {
   "codemirror_mode": {
    "name": "ipython",
    "version": 3
   },
   "file_extension": ".py",
   "mimetype": "text/x-python",
   "name": "python",
   "nbconvert_exporter": "python",
   "pygments_lexer": "ipython3",
   "version": "3.8.3"
  },
  "toc": {
   "base_numbering": 1,
   "nav_menu": {},
   "number_sections": true,
   "sideBar": true,
   "skip_h1_title": false,
   "title_cell": "Table of Contents",
   "title_sidebar": "Contents",
   "toc_cell": false,
   "toc_position": {},
   "toc_section_display": true,
   "toc_window_display": false
  },
  "varInspector": {
   "cols": {
    "lenName": 16,
    "lenType": 16,
    "lenVar": 40
   },
   "kernels_config": {
    "python": {
     "delete_cmd_postfix": "",
     "delete_cmd_prefix": "del ",
     "library": "var_list.py",
     "varRefreshCmd": "print(var_dic_list())"
    },
    "r": {
     "delete_cmd_postfix": ") ",
     "delete_cmd_prefix": "rm(",
     "library": "var_list.r",
     "varRefreshCmd": "cat(var_dic_list()) "
    }
   },
   "types_to_exclude": [
    "module",
    "function",
    "builtin_function_or_method",
    "instance",
    "_Feature"
   ],
   "window_display": false
  }
 },
 "nbformat": 4,
 "nbformat_minor": 5
}
